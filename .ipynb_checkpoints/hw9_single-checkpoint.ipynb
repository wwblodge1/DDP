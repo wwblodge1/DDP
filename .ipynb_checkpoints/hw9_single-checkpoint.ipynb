{
 "cells": [
  {
   "cell_type": "code",
   "execution_count": 1,
   "id": "ahead-mounting",
   "metadata": {
    "executionInfo": {
     "elapsed": 4198,
     "status": "ok",
     "timestamp": 1624759883403,
     "user": {
      "displayName": "Dima Rekesh",
      "photoUrl": "https://lh3.googleusercontent.com/a-/AOh14GgCxhnQN9cW764WS8AiJguM8wE5foCZLMjr-NyFuQ=s64",
      "userId": "05362657998610812765"
     },
     "user_tz": 420
    },
    "id": "f2513038"
   },
   "outputs": [],
   "source": [
    "import os\n",
    "import random\n",
    "import shutil\n",
    "import time\n",
    "import warnings\n",
    "\n",
    "import torch\n",
    "import torch.nn as nn\n",
    "import torch.backends.cudnn as cudnn\n",
    "import torch.optim\n",
    "\n",
    "import torch.utils.data\n",
    "import torchvision\n",
    "import torchvision.transforms as transforms\n",
    "import torchvision.datasets as datasets\n",
    "import torchvision.models as models"
   ]
  },
  {
   "cell_type": "code",
   "execution_count": 2,
   "id": "modular-update",
   "metadata": {},
   "outputs": [],
   "source": [
    "import torch.distributed as dist\n",
    "from torch.cuda.amp import GradScaler\n",
    "from torch.cuda.amp import autocast"
   ]
  },
  {
   "cell_type": "code",
   "execution_count": 3,
   "id": "stone-continuity",
   "metadata": {},
   "outputs": [],
   "source": [
    "from torch.utils.tensorboard import SummaryWriter\n",
    "writer = SummaryWriter()"
   ]
  },
  {
   "cell_type": "code",
   "execution_count": 4,
   "id": "decreased-paris",
   "metadata": {},
   "outputs": [
    {
     "name": "stdout",
     "output_type": "stream",
     "text": [
      "Looking in indexes: https://pypi.org/simple, https://pip.repos.neuron.amazonaws.com\n",
      "Requirement already satisfied: wandb in ./anaconda3/envs/pytorch_latest_p37/lib/python3.7/site-packages (0.12.6)\n",
      "Requirement already satisfied: python-dateutil>=2.6.1 in ./anaconda3/envs/pytorch_latest_p37/lib/python3.7/site-packages (from wandb) (2.8.1)\n",
      "Requirement already satisfied: configparser>=3.8.1 in ./anaconda3/envs/pytorch_latest_p37/lib/python3.7/site-packages (from wandb) (5.0.2)\n",
      "Requirement already satisfied: sentry-sdk>=1.0.0 in ./anaconda3/envs/pytorch_latest_p37/lib/python3.7/site-packages (from wandb) (1.4.3)\n",
      "Requirement already satisfied: docker-pycreds>=0.4.0 in ./anaconda3/envs/pytorch_latest_p37/lib/python3.7/site-packages (from wandb) (0.4.0)\n",
      "Requirement already satisfied: PyYAML in ./anaconda3/envs/pytorch_latest_p37/lib/python3.7/site-packages (from wandb) (5.4.1)\n",
      "Requirement already satisfied: promise<3,>=2.0 in ./anaconda3/envs/pytorch_latest_p37/lib/python3.7/site-packages (from wandb) (2.3)\n",
      "Requirement already satisfied: subprocess32>=3.5.3 in ./anaconda3/envs/pytorch_latest_p37/lib/python3.7/site-packages (from wandb) (3.5.4)\n",
      "Requirement already satisfied: six>=1.13.0 in ./anaconda3/envs/pytorch_latest_p37/lib/python3.7/site-packages (from wandb) (1.15.0)\n",
      "Requirement already satisfied: protobuf>=3.12.0 in ./anaconda3/envs/pytorch_latest_p37/lib/python3.7/site-packages (from wandb) (3.18.1)\n",
      "Requirement already satisfied: Click!=8.0.0,>=7.0 in ./anaconda3/envs/pytorch_latest_p37/lib/python3.7/site-packages (from wandb) (7.1.2)\n",
      "Requirement already satisfied: shortuuid>=0.5.0 in ./anaconda3/envs/pytorch_latest_p37/lib/python3.7/site-packages (from wandb) (1.0.1)\n",
      "Requirement already satisfied: requests<3,>=2.0.0 in ./anaconda3/envs/pytorch_latest_p37/lib/python3.7/site-packages (from wandb) (2.25.1)\n",
      "Requirement already satisfied: psutil>=5.0.0 in ./anaconda3/envs/pytorch_latest_p37/lib/python3.7/site-packages (from wandb) (5.8.0)\n",
      "Requirement already satisfied: GitPython>=1.0.0 in ./anaconda3/envs/pytorch_latest_p37/lib/python3.7/site-packages (from wandb) (3.1.24)\n",
      "Requirement already satisfied: pathtools in ./anaconda3/envs/pytorch_latest_p37/lib/python3.7/site-packages (from wandb) (0.1.2)\n",
      "Requirement already satisfied: yaspin>=1.0.0 in ./anaconda3/envs/pytorch_latest_p37/lib/python3.7/site-packages (from wandb) (2.1.0)\n",
      "Requirement already satisfied: typing-extensions>=3.7.4.3 in ./anaconda3/envs/pytorch_latest_p37/lib/python3.7/site-packages (from GitPython>=1.0.0->wandb) (3.7.4.3)\n",
      "Requirement already satisfied: gitdb<5,>=4.0.1 in ./anaconda3/envs/pytorch_latest_p37/lib/python3.7/site-packages (from GitPython>=1.0.0->wandb) (4.0.9)\n",
      "Requirement already satisfied: smmap<6,>=3.0.1 in ./anaconda3/envs/pytorch_latest_p37/lib/python3.7/site-packages (from gitdb<5,>=4.0.1->GitPython>=1.0.0->wandb) (5.0.0)\n",
      "Requirement already satisfied: urllib3<1.27,>=1.21.1 in ./anaconda3/envs/pytorch_latest_p37/lib/python3.7/site-packages (from requests<3,>=2.0.0->wandb) (1.26.7)\n",
      "Requirement already satisfied: chardet<5,>=3.0.2 in ./anaconda3/envs/pytorch_latest_p37/lib/python3.7/site-packages (from requests<3,>=2.0.0->wandb) (4.0.0)\n",
      "Requirement already satisfied: certifi>=2017.4.17 in ./anaconda3/envs/pytorch_latest_p37/lib/python3.7/site-packages (from requests<3,>=2.0.0->wandb) (2021.5.30)\n",
      "Requirement already satisfied: idna<3,>=2.5 in ./anaconda3/envs/pytorch_latest_p37/lib/python3.7/site-packages (from requests<3,>=2.0.0->wandb) (2.10)\n",
      "Requirement already satisfied: termcolor<2.0.0,>=1.1.0 in ./anaconda3/envs/pytorch_latest_p37/lib/python3.7/site-packages (from yaspin>=1.0.0->wandb) (1.1.0)\n",
      "\u001b[33mWARNING: You are using pip version 21.2.4; however, version 21.3.1 is available.\n",
      "You should consider upgrading via the '/home/ubuntu/anaconda3/envs/pytorch_latest_p37/bin/python -m pip install --upgrade pip' command.\u001b[0m\n"
     ]
    },
    {
     "name": "stderr",
     "output_type": "stream",
     "text": [
      "\u001b[34m\u001b[1mwandb\u001b[0m: Currently logged in as: \u001b[33mwwblodge1\u001b[0m (use `wandb login --relogin` to force relogin)\n"
     ]
    },
    {
     "data": {
      "text/plain": [
       "True"
      ]
     },
     "execution_count": 4,
     "metadata": {},
     "output_type": "execute_result"
    }
   ],
   "source": [
    "!pip install wandb\n",
    "import wandb\n",
    "wandb.login()"
   ]
  },
  {
   "cell_type": "code",
   "execution_count": 5,
   "id": "discrete-relay",
   "metadata": {},
   "outputs": [
    {
     "data": {
      "text/html": [
       "\n",
       "                    Syncing run <strong><a href=\"https://wandb.ai/wwblodge1/hw9_instance/runs/v7va2kft\" target=\"_blank\">filigreed-firecracker-35</a></strong> to <a href=\"https://wandb.ai/wwblodge1/hw9_instance\" target=\"_blank\">Weights & Biases</a> (<a href=\"https://docs.wandb.com/integrations/jupyter.html\" target=\"_blank\">docs</a>).<br/>\n",
       "\n",
       "                "
      ],
      "text/plain": [
       "<IPython.core.display.HTML object>"
      ]
     },
     "metadata": {},
     "output_type": "display_data"
    },
    {
     "data": {
      "text/html": [
       "<button onClick=\"this.nextSibling.style.display='block';this.style.display='none';\">Display W&B run</button><iframe src=\"https://wandb.ai/wwblodge1/hw9_instance/runs/v7va2kft?jupyter=true\" style=\"border:none;width:100%;height:420px;display:none;\"></iframe>"
      ],
      "text/plain": [
       "<wandb.sdk.wandb_run.Run at 0x7effe6710610>"
      ]
     },
     "execution_count": 5,
     "metadata": {},
     "output_type": "execute_result"
    }
   ],
   "source": [
    "wandb.init(project=\"hw9_instance\")"
   ]
  },
  {
   "cell_type": "code",
   "execution_count": 6,
   "id": "touched-mortality",
   "metadata": {
    "id": "8cb72e29"
   },
   "outputs": [],
   "source": [
    "# Assume that this notebook only sees one GPU.\n",
    "GPU=0"
   ]
  },
  {
   "cell_type": "code",
   "execution_count": 7,
   "id": "labeled-mixer",
   "metadata": {
    "executionInfo": {
     "elapsed": 354,
     "status": "ok",
     "timestamp": 1624759889299,
     "user": {
      "displayName": "Dima Rekesh",
      "photoUrl": "https://lh3.googleusercontent.com/a-/AOh14GgCxhnQN9cW764WS8AiJguM8wE5foCZLMjr-NyFuQ=s64",
      "userId": "05362657998610812765"
     },
     "user_tz": 420
    },
    "id": "02d1a0c0"
   },
   "outputs": [],
   "source": [
    "SEED=1"
   ]
  },
  {
   "cell_type": "code",
   "execution_count": 8,
   "id": "welsh-commonwealth",
   "metadata": {
    "executionInfo": {
     "elapsed": 17,
     "status": "ok",
     "timestamp": 1624759891917,
     "user": {
      "displayName": "Dima Rekesh",
      "photoUrl": "https://lh3.googleusercontent.com/a-/AOh14GgCxhnQN9cW764WS8AiJguM8wE5foCZLMjr-NyFuQ=s64",
      "userId": "05362657998610812765"
     },
     "user_tz": 420
    },
    "id": "b1b9bfde"
   },
   "outputs": [],
   "source": [
    "random.seed(SEED)\n",
    "torch.manual_seed(SEED)\n",
    "cudnn.deterministic = True"
   ]
  },
  {
   "cell_type": "code",
   "execution_count": 9,
   "id": "suited-morgan",
   "metadata": {
    "colab": {
     "base_uri": "https://localhost:8080/"
    },
    "executionInfo": {
     "elapsed": 230,
     "status": "ok",
     "timestamp": 1624759894660,
     "user": {
      "displayName": "Dima Rekesh",
      "photoUrl": "https://lh3.googleusercontent.com/a-/AOh14GgCxhnQN9cW764WS8AiJguM8wE5foCZLMjr-NyFuQ=s64",
      "userId": "05362657998610812765"
     },
     "user_tz": 420
    },
    "id": "e9eb47a7",
    "outputId": "c49775ff-91ee-488c-d99c-3739e452d6af"
   },
   "outputs": [
    {
     "data": {
      "text/plain": [
       "1"
      ]
     },
     "execution_count": 9,
     "metadata": {},
     "output_type": "execute_result"
    }
   ],
   "source": [
    "torch.cuda.device_count()"
   ]
  },
  {
   "cell_type": "code",
   "execution_count": 10,
   "id": "departmental-listing",
   "metadata": {
    "id": "073b7b81"
   },
   "outputs": [],
   "source": [
    "START_EPOCH = 0"
   ]
  },
  {
   "cell_type": "code",
   "execution_count": 11,
   "id": "considerable-hammer",
   "metadata": {
    "id": "5e18ae51",
    "tags": [
     "parameters"
    ]
   },
   "outputs": [],
   "source": [
    "ARCH = 'resnet18'\n",
    "EPOCHS = 1\n",
    "LR = 0.1\n",
    "MOMENTUM = 0.9\n",
    "WEIGHT_DECAY = 1e-4\n",
    "PRINT_FREQ = 10\n",
    "TRAIN_BATCH=500\n",
    "VAL_BATCH=500\n",
    "WORKERS=2\n",
    "TRAINDIR=\"data/train\"\n",
    "VALDIR=\"data/val\"\n",
    "\n",
    "global_step = 0"
   ]
  },
  {
   "cell_type": "code",
   "execution_count": 12,
   "id": "running-elite",
   "metadata": {
    "id": "85299ee3"
   },
   "outputs": [],
   "source": [
    "TRAINDIR=\"data/train\"\n",
    "VALDIR=\"data/val\""
   ]
  },
  {
   "cell_type": "code",
   "execution_count": 13,
   "id": "a57eb64f",
   "metadata": {},
   "outputs": [
    {
     "data": {
      "text/html": [
       "Finishing last run (ID:v7va2kft) before initializing another..."
      ],
      "text/plain": [
       "<IPython.core.display.HTML object>"
      ]
     },
     "metadata": {},
     "output_type": "display_data"
    },
    {
     "data": {
      "text/html": [
       "<br/>Waiting for W&B process to finish, PID 6601... <strong style=\"color:green\">(success).</strong>"
      ],
      "text/plain": [
       "<IPython.core.display.HTML object>"
      ]
     },
     "metadata": {},
     "output_type": "display_data"
    },
    {
     "data": {
      "application/vnd.jupyter.widget-view+json": {
       "model_id": "",
       "version_major": 2,
       "version_minor": 0
      },
      "text/plain": [
       "VBox(children=(Label(value=' 0.00MB of 0.00MB uploaded (0.00MB deduped)\\r'), FloatProgress(value=1.0, max=1.0)…"
      ]
     },
     "metadata": {},
     "output_type": "display_data"
    },
    {
     "data": {
      "text/html": [
       "<style>\n",
       "    table.wandb td:nth-child(1) { padding: 0 10px; text-align: right }\n",
       "    .wandb-row { display: flex; flex-direction: row; flex-wrap: wrap; width: 100% }\n",
       "    .wandb-col { display: flex; flex-direction: column; flex-basis: 100%; flex: 1; padding: 10px; }\n",
       "    </style>\n",
       "<div class=\"wandb-row\"><div class=\"wandb-col\">\n",
       "</div><div class=\"wandb-col\">\n",
       "</div></div>\n",
       "Synced 4 W&B file(s), 0 media file(s), 0 artifact file(s) and 0 other file(s)\n",
       "<br/>Synced <strong style=\"color:#cdcd00\">filigreed-firecracker-35</strong>: <a href=\"https://wandb.ai/wwblodge1/hw9_instance/runs/v7va2kft\" target=\"_blank\">https://wandb.ai/wwblodge1/hw9_instance/runs/v7va2kft</a><br/>\n",
       "Find logs at: <code>./wandb/run-20211104_055401-v7va2kft/logs</code><br/>\n"
      ],
      "text/plain": [
       "<IPython.core.display.HTML object>"
      ]
     },
     "metadata": {},
     "output_type": "display_data"
    },
    {
     "data": {
      "text/html": [
       "Successfully finished last run (ID:v7va2kft). Initializing new run:<br/>"
      ],
      "text/plain": [
       "<IPython.core.display.HTML object>"
      ]
     },
     "metadata": {},
     "output_type": "display_data"
    },
    {
     "data": {
      "text/html": [
       "\n",
       "                    Syncing run <strong><a href=\"https://wandb.ai/wwblodge1/uncategorized/runs/3b7p1wtp\" target=\"_blank\">sweet-victory-16</a></strong> to <a href=\"https://wandb.ai/wwblodge1/uncategorized\" target=\"_blank\">Weights & Biases</a> (<a href=\"https://docs.wandb.com/integrations/jupyter.html\" target=\"_blank\">docs</a>).<br/>\n",
       "\n",
       "                "
      ],
      "text/plain": [
       "<IPython.core.display.HTML object>"
      ]
     },
     "metadata": {},
     "output_type": "display_data"
    },
    {
     "data": {
      "text/html": [
       "<button onClick=\"this.nextSibling.style.display='block';this.style.display='none';\">Display W&B run</button><iframe src=\"https://wandb.ai/wwblodge1/uncategorized/runs/3b7p1wtp?jupyter=true\" style=\"border:none;width:100%;height:420px;display:none;\"></iframe>"
      ],
      "text/plain": [
       "<wandb.sdk.wandb_run.Run at 0x7effe66e7210>"
      ]
     },
     "execution_count": 13,
     "metadata": {},
     "output_type": "execute_result"
    }
   ],
   "source": [
    "wandb.init(config={\"epochs\": EPOCHS, \"batch_size\": TRAIN_BATCH, \"momentum\": MOMENTUM, \"WEIGHT_DECAY\": WEIGHT_DECAY, \"arch\": ARCH})"
   ]
  },
  {
   "cell_type": "code",
   "execution_count": 14,
   "id": "conscious-eugene",
   "metadata": {
    "colab": {
     "base_uri": "https://localhost:8080/"
    },
    "executionInfo": {
     "elapsed": 137,
     "status": "ok",
     "timestamp": 1622949197302,
     "user": {
      "displayName": "Jayanth Srinivasa",
      "photoUrl": "",
      "userId": "03369694624178485882"
     },
     "user_tz": 420
    },
    "id": "c6bf6a83",
    "outputId": "72d2e92f-7574-4c0a-c813-288cd69eaa36"
   },
   "outputs": [],
   "source": [
    "if not torch.cuda.is_available():\n",
    "    print('GPU not detected.. did you pass through your GPU?')"
   ]
  },
  {
   "cell_type": "code",
   "execution_count": 15,
   "id": "raising-willow",
   "metadata": {},
   "outputs": [],
   "source": [
    "# # how many processes in cluster?\n",
    "# WORLD_SIZE = 2\n",
    "# BACKEND = 'nccl'\n",
    "\n",
    "# URL = 'tcp://172.31.24.47:1234'"
   ]
  },
  {
   "cell_type": "code",
   "execution_count": 16,
   "id": "armed-imaging",
   "metadata": {},
   "outputs": [],
   "source": [
    "#what is my rank?\n",
    "# RANK = 0"
   ]
  },
  {
   "cell_type": "code",
   "execution_count": 17,
   "id": "correct-melbourne",
   "metadata": {
    "id": "68491838"
   },
   "outputs": [],
   "source": [
    "# dist.init_process_group(backend = BACKEND, init_method= URL,\n",
    "#                                 world_size= WORLD_SIZE, rank=RANK)"
   ]
  },
  {
   "cell_type": "code",
   "execution_count": 18,
   "id": "disturbed-swimming",
   "metadata": {
    "id": "acd97390"
   },
   "outputs": [],
   "source": [
    "#torch.cuda.set_device('cpu')\n",
    "torch.cuda.set_device(GPU)"
   ]
  },
  {
   "cell_type": "code",
   "execution_count": 19,
   "id": "mineral-gibson",
   "metadata": {
    "id": "e19a5849"
   },
   "outputs": [],
   "source": [
    "cudnn.benchmark = True"
   ]
  },
  {
   "cell_type": "code",
   "execution_count": 20,
   "id": "artistic-fireplace",
   "metadata": {
    "id": "4e65743f"
   },
   "outputs": [],
   "source": [
    "# def train(train_loader, model, criterion, optimizer, epoch):\n",
    "#     batch_time = AverageMeter('Time', ':6.3f')\n",
    "#     data_time = AverageMeter('Data', ':6.3f')\n",
    "#     losses = AverageMeter('Loss', ':.4e')\n",
    "#     top1 = AverageMeter('Acc@1', ':6.2f')\n",
    "#     top5 = AverageMeter('Acc@5', ':6.2f')\n",
    "#     progress = ProgressMeter(\n",
    "#         len(train_loader),\n",
    "#         [batch_time, data_time, losses, top1, top5],\n",
    "#         prefix=\"Epoch: [{}]\".format(epoch))\n",
    "\n",
    "#     # switch to train mode\n",
    "#     model.train()\n",
    "\n",
    "#     end = time.time()\n",
    "#     for i, (images, target) in enumerate(train_loader):\n",
    "#         # measure data loading time\n",
    "#         data_time.update(time.time() - end)\n",
    "\n",
    "#         if GPU is not None:\n",
    "#             images = images.cuda(GPU, non_blocking=True)\n",
    "#         if torch.cuda.is_available():\n",
    "#             target = target.cuda(GPU, non_blocking=True)\n",
    "\n",
    "#         # compute output\n",
    "#         output = model(images)\n",
    "#         loss = criterion(output, target)\n",
    "\n",
    "#         # measure accuracy and record loss\n",
    "#         acc1, acc5 = accuracy(output, target, topk=(1, 5))\n",
    "#         losses.update(loss.item(), images.size(0))\n",
    "#         top1.update(acc1[0], images.size(0))\n",
    "#         top5.update(acc5[0], images.size(0))\n",
    "\n",
    "#         # compute gradient and do SGD step\n",
    "#         optimizer.zero_grad()\n",
    "#         loss.backward()\n",
    "#         optimizer.step()\n",
    "\n",
    "#         # measure elapsed time\n",
    "#         batch_time.update(time.time() - end)\n",
    "#         end = time.time()\n",
    "\n",
    "#         if i % PRINT_FREQ == 0:\n",
    "#             progress.display(i)\n",
    "\n",
    "def train(train_loader, model, criterion, optimizer, epoch):\n",
    "    global global_step    \n",
    "    batch_time = AverageMeter('Time', ':6.3f')\n",
    "    data_time = AverageMeter('Data', ':6.3f')\n",
    "    losses = AverageMeter('Loss', ':.4e')\n",
    "    top1 = AverageMeter('Acc@1', ':6.2f')\n",
    "    top5 = AverageMeter('Acc@5', ':6.2f')\n",
    "    progress = ProgressMeter(\n",
    "        len(train_loader),\n",
    "        [batch_time, data_time, losses, top1, top5],\n",
    "        prefix=\"Epoch: [{}]\".format(epoch))\n",
    "\n",
    "    # Grad Scaler\n",
    "    scaler = GradScaler()\n",
    "    # switch to train mode\n",
    "    model.train()\n",
    "\n",
    "    end = time.time()\n",
    "    for i, (images, target) in enumerate(train_loader):\n",
    "        # measure data loading time\n",
    "        data_time.update(time.time() - end)\n",
    "        optimizer.zero_grad()\n",
    "\n",
    "        if GPU is not None:\n",
    "            images = images.cuda(GPU, non_blocking=True)\n",
    "        if torch.cuda.is_available():\n",
    "            target = target.cuda(GPU, non_blocking=True)\n",
    "\n",
    "        # compute output\n",
    "        with autocast():\n",
    "          output = model(images)\n",
    "          loss = criterion(output, target)\n",
    "\n",
    "        # measure accuracy and record loss\n",
    "        acc1, acc5 = accuracy(output, target, topk=(1, 5))\n",
    "        losses.update(loss.item(), images.size(0))\n",
    "        top1.update(acc1[0], images.size(0))\n",
    "        top5.update(acc5[0], images.size(0))\n",
    "\n",
    "        # compute gradient and do SGD step\n",
    "        # optimizer.zero_grad()\n",
    "        # loss.backward()\n",
    "        # optimizer.step()\n",
    "        \n",
    "        # use the scaler\n",
    "        scaler.scale(loss).backward()\n",
    "        scaler.step(optimizer)\n",
    "        scaler.update()\n",
    "\n",
    "        # measure elapsed time\n",
    "        batch_time.update(time.time() - end)\n",
    "        end = time.time()\n",
    "        \n",
    "        writer.add_scalar(\"Loss/train\", loss, global_step = global_step)\n",
    "        writer.add_scalar(\"acc1/train\", top1.avg, global_step = global_step)\n",
    "        writer.add_scalar(\"acc5/train\", top5.avg, global_step = global_step)\n",
    "        \n",
    "        wandb.log({\"Loss/train\": loss, 'acc1/train': top1.avg, 'acc5/train': top5.avg})\n",
    "        \n",
    "        global_step = global_step + 1\n",
    "\n",
    "        if i % PRINT_FREQ == 0:\n",
    "            progress.display(i)"
   ]
  },
  {
   "cell_type": "code",
   "execution_count": 21,
   "id": "equipped-cathedral",
   "metadata": {
    "id": "ab30a1a4"
   },
   "outputs": [],
   "source": [
    "def validate(val_loader, model, criterion):\n",
    "    batch_time = AverageMeter('Time', ':6.3f')\n",
    "    losses = AverageMeter('Loss', ':.4e')\n",
    "    top1 = AverageMeter('Acc@1', ':6.2f')\n",
    "    top5 = AverageMeter('Acc@5', ':6.2f')\n",
    "    progress = ProgressMeter(\n",
    "        len(val_loader),\n",
    "        [batch_time, losses, top1, top5],\n",
    "        prefix='Test: ')\n",
    "\n",
    "    # switch to evaluate mode\n",
    "    model.eval()\n",
    "\n",
    "    with torch.no_grad():\n",
    "        end = time.time()\n",
    "        for i, (images, target) in enumerate(val_loader):\n",
    "            if GPU is not None:\n",
    "                images = images.cuda(GPU, non_blocking=True)\n",
    "            if torch.cuda.is_available():\n",
    "                target = target.cuda(GPU, non_blocking=True)\n",
    "\n",
    "            # compute output\n",
    "            output = model(images)\n",
    "            loss = criterion(output, target)\n",
    "\n",
    "            # measure accuracy and record loss\n",
    "            acc1, acc5 = accuracy(output, target, topk=(1, 5))\n",
    "            losses.update(loss.item(), images.size(0))\n",
    "            top1.update(acc1[0], images.size(0))\n",
    "            top5.update(acc5[0], images.size(0))\n",
    "\n",
    "            # measure elapsed time\n",
    "            batch_time.update(time.time() - end)\n",
    "            end = time.time()\n",
    "\n",
    "            if i % PRINT_FREQ == 0:\n",
    "                progress.display(i)\n",
    "\n",
    "        # TODO: this should also be done with the ProgressMeter\n",
    "        print(' * Acc@1 {top1.avg:.3f} Acc@5 {top5.avg:.3f}'\n",
    "              .format(top1=top1, top5=top5))\n",
    "\n",
    "    return top1.avg"
   ]
  },
  {
   "cell_type": "code",
   "execution_count": 22,
   "id": "motivated-cover",
   "metadata": {
    "id": "afa7d9fd"
   },
   "outputs": [],
   "source": [
    "def save_checkpoint(state, is_best, filename='checkpoint.pth.tar'):\n",
    "    torch.save(state, filename)\n",
    "    if is_best:\n",
    "        shutil.copyfile(filename, 'model_best.pth.tar')"
   ]
  },
  {
   "cell_type": "code",
   "execution_count": 23,
   "id": "potential-cross",
   "metadata": {
    "id": "8c5f0ab4"
   },
   "outputs": [],
   "source": [
    "class AverageMeter(object):\n",
    "    \"\"\"Computes and stores the average and current value\"\"\"\n",
    "    def __init__(self, name, fmt=':f'):\n",
    "        self.name = name\n",
    "        self.fmt = fmt\n",
    "        self.reset()\n",
    "\n",
    "    def reset(self):\n",
    "        self.val = 0\n",
    "        self.avg = 0\n",
    "        self.sum = 0\n",
    "        self.count = 0\n",
    "\n",
    "    def update(self, val, n=1):\n",
    "        self.val = val\n",
    "        self.sum += val * n\n",
    "        self.count += n\n",
    "        self.avg = self.sum / self.count\n",
    "\n",
    "    def __str__(self):\n",
    "        fmtstr = '{name} {val' + self.fmt + '} ({avg' + self.fmt + '})'\n",
    "        return fmtstr.format(**self.__dict__)"
   ]
  },
  {
   "cell_type": "code",
   "execution_count": 24,
   "id": "informal-tunisia",
   "metadata": {
    "id": "ce30c86a"
   },
   "outputs": [],
   "source": [
    "class ProgressMeter(object):\n",
    "    def __init__(self, num_batches, meters, prefix=\"\"):\n",
    "        self.batch_fmtstr = self._get_batch_fmtstr(num_batches)\n",
    "        self.meters = meters\n",
    "        self.prefix = prefix\n",
    "\n",
    "    def display(self, batch):\n",
    "        entries = [self.prefix + self.batch_fmtstr.format(batch)]\n",
    "        entries += [str(meter) for meter in self.meters]\n",
    "        print('\\t'.join(entries))\n",
    "\n",
    "    def _get_batch_fmtstr(self, num_batches):\n",
    "        num_digits = len(str(num_batches // 1))\n",
    "        fmt = '{:' + str(num_digits) + 'd}'\n",
    "        return '[' + fmt + '/' + fmt.format(num_batches) + ']'"
   ]
  },
  {
   "cell_type": "code",
   "execution_count": 25,
   "id": "fresh-illustration",
   "metadata": {
    "id": "7504ce7a"
   },
   "outputs": [],
   "source": [
    "def adjust_learning_rate(optimizer, epoch):\n",
    "    \"\"\"Sets the learning rate to the initial LR decayed by 10 every 30 epochs\"\"\"\n",
    "    lr = LR * (0.1 ** (epoch // 30))\n",
    "    for param_group in optimizer.param_groups:\n",
    "        param_group['lr'] = lr"
   ]
  },
  {
   "cell_type": "code",
   "execution_count": 26,
   "id": "rolled-bullet",
   "metadata": {
    "id": "0d659923"
   },
   "outputs": [],
   "source": [
    "def accuracy(output, target, topk=(1,)):\n",
    "    \"\"\"Computes the accuracy over the k top predictions for the specified values of k\"\"\"\n",
    "    with torch.no_grad():\n",
    "        maxk = max(topk)\n",
    "        batch_size = target.size(0)\n",
    "\n",
    "        _, pred = output.topk(maxk, 1, True, True)\n",
    "        pred = pred.t()\n",
    "        correct = pred.eq(target.view(1, -1).expand_as(pred))\n",
    "\n",
    "        res = []\n",
    "        for k in topk:\n",
    "            correct_k = correct[:k].reshape(-1).float().sum(0, keepdim=True)\n",
    "            res.append(correct_k.mul_(100.0 / batch_size))\n",
    "        return res"
   ]
  },
  {
   "cell_type": "code",
   "execution_count": 27,
   "id": "muslim-edition",
   "metadata": {
    "id": "f74f06e1"
   },
   "outputs": [],
   "source": [
    "imagenet_mean_RGB = [0.47889522, 0.47227842, 0.43047404]\n",
    "imagenet_std_RGB = [0.229, 0.224, 0.225]\n",
    "cinic_mean_RGB = [0.47889522, 0.47227842, 0.43047404]\n",
    "cinic_std_RGB = [0.24205776, 0.23828046, 0.25874835]\n",
    "cifar_mean_RGB = [0.4914, 0.4822, 0.4465]\n",
    "cifar_std_RGB = [0.2023, 0.1994, 0.2010]"
   ]
  },
  {
   "cell_type": "code",
   "execution_count": 28,
   "id": "advisory-flesh",
   "metadata": {
    "id": "c005e2dd"
   },
   "outputs": [],
   "source": [
    "normalize = transforms.Normalize(mean=cifar_mean_RGB, std=cifar_std_RGB)"
   ]
  },
  {
   "cell_type": "code",
   "execution_count": 29,
   "id": "linear-louisiana",
   "metadata": {
    "id": "29d54592"
   },
   "outputs": [],
   "source": [
    "# IMG_SIZE = 32\n",
    "IMG_SIZE = 224"
   ]
  },
  {
   "cell_type": "code",
   "execution_count": 30,
   "id": "anticipated-wound",
   "metadata": {
    "id": "94059b7f"
   },
   "outputs": [],
   "source": [
    "NUM_CLASSES = 1000"
   ]
  },
  {
   "cell_type": "code",
   "execution_count": 31,
   "id": "organizational-format",
   "metadata": {
    "id": "788c0401"
   },
   "outputs": [],
   "source": [
    "model = models.__dict__[ARCH]()"
   ]
  },
  {
   "cell_type": "code",
   "execution_count": 32,
   "id": "sacred-welsh",
   "metadata": {
    "id": "63dc579e"
   },
   "outputs": [],
   "source": [
    "inf = model.fc.in_features"
   ]
  },
  {
   "cell_type": "code",
   "execution_count": 33,
   "id": "varying-berry",
   "metadata": {
    "id": "edf9cf5d"
   },
   "outputs": [],
   "source": [
    "model.fc = nn.Linear(inf, NUM_CLASSES)"
   ]
  },
  {
   "cell_type": "code",
   "execution_count": 34,
   "id": "detailed-hungary",
   "metadata": {
    "id": "319e2d99"
   },
   "outputs": [
    {
     "data": {
      "text/plain": [
       "ResNet(\n",
       "  (conv1): Conv2d(3, 64, kernel_size=(7, 7), stride=(2, 2), padding=(3, 3), bias=False)\n",
       "  (bn1): BatchNorm2d(64, eps=1e-05, momentum=0.1, affine=True, track_running_stats=True)\n",
       "  (relu): ReLU(inplace=True)\n",
       "  (maxpool): MaxPool2d(kernel_size=3, stride=2, padding=1, dilation=1, ceil_mode=False)\n",
       "  (layer1): Sequential(\n",
       "    (0): BasicBlock(\n",
       "      (conv1): Conv2d(64, 64, kernel_size=(3, 3), stride=(1, 1), padding=(1, 1), bias=False)\n",
       "      (bn1): BatchNorm2d(64, eps=1e-05, momentum=0.1, affine=True, track_running_stats=True)\n",
       "      (relu): ReLU(inplace=True)\n",
       "      (conv2): Conv2d(64, 64, kernel_size=(3, 3), stride=(1, 1), padding=(1, 1), bias=False)\n",
       "      (bn2): BatchNorm2d(64, eps=1e-05, momentum=0.1, affine=True, track_running_stats=True)\n",
       "    )\n",
       "    (1): BasicBlock(\n",
       "      (conv1): Conv2d(64, 64, kernel_size=(3, 3), stride=(1, 1), padding=(1, 1), bias=False)\n",
       "      (bn1): BatchNorm2d(64, eps=1e-05, momentum=0.1, affine=True, track_running_stats=True)\n",
       "      (relu): ReLU(inplace=True)\n",
       "      (conv2): Conv2d(64, 64, kernel_size=(3, 3), stride=(1, 1), padding=(1, 1), bias=False)\n",
       "      (bn2): BatchNorm2d(64, eps=1e-05, momentum=0.1, affine=True, track_running_stats=True)\n",
       "    )\n",
       "  )\n",
       "  (layer2): Sequential(\n",
       "    (0): BasicBlock(\n",
       "      (conv1): Conv2d(64, 128, kernel_size=(3, 3), stride=(2, 2), padding=(1, 1), bias=False)\n",
       "      (bn1): BatchNorm2d(128, eps=1e-05, momentum=0.1, affine=True, track_running_stats=True)\n",
       "      (relu): ReLU(inplace=True)\n",
       "      (conv2): Conv2d(128, 128, kernel_size=(3, 3), stride=(1, 1), padding=(1, 1), bias=False)\n",
       "      (bn2): BatchNorm2d(128, eps=1e-05, momentum=0.1, affine=True, track_running_stats=True)\n",
       "      (downsample): Sequential(\n",
       "        (0): Conv2d(64, 128, kernel_size=(1, 1), stride=(2, 2), bias=False)\n",
       "        (1): BatchNorm2d(128, eps=1e-05, momentum=0.1, affine=True, track_running_stats=True)\n",
       "      )\n",
       "    )\n",
       "    (1): BasicBlock(\n",
       "      (conv1): Conv2d(128, 128, kernel_size=(3, 3), stride=(1, 1), padding=(1, 1), bias=False)\n",
       "      (bn1): BatchNorm2d(128, eps=1e-05, momentum=0.1, affine=True, track_running_stats=True)\n",
       "      (relu): ReLU(inplace=True)\n",
       "      (conv2): Conv2d(128, 128, kernel_size=(3, 3), stride=(1, 1), padding=(1, 1), bias=False)\n",
       "      (bn2): BatchNorm2d(128, eps=1e-05, momentum=0.1, affine=True, track_running_stats=True)\n",
       "    )\n",
       "  )\n",
       "  (layer3): Sequential(\n",
       "    (0): BasicBlock(\n",
       "      (conv1): Conv2d(128, 256, kernel_size=(3, 3), stride=(2, 2), padding=(1, 1), bias=False)\n",
       "      (bn1): BatchNorm2d(256, eps=1e-05, momentum=0.1, affine=True, track_running_stats=True)\n",
       "      (relu): ReLU(inplace=True)\n",
       "      (conv2): Conv2d(256, 256, kernel_size=(3, 3), stride=(1, 1), padding=(1, 1), bias=False)\n",
       "      (bn2): BatchNorm2d(256, eps=1e-05, momentum=0.1, affine=True, track_running_stats=True)\n",
       "      (downsample): Sequential(\n",
       "        (0): Conv2d(128, 256, kernel_size=(1, 1), stride=(2, 2), bias=False)\n",
       "        (1): BatchNorm2d(256, eps=1e-05, momentum=0.1, affine=True, track_running_stats=True)\n",
       "      )\n",
       "    )\n",
       "    (1): BasicBlock(\n",
       "      (conv1): Conv2d(256, 256, kernel_size=(3, 3), stride=(1, 1), padding=(1, 1), bias=False)\n",
       "      (bn1): BatchNorm2d(256, eps=1e-05, momentum=0.1, affine=True, track_running_stats=True)\n",
       "      (relu): ReLU(inplace=True)\n",
       "      (conv2): Conv2d(256, 256, kernel_size=(3, 3), stride=(1, 1), padding=(1, 1), bias=False)\n",
       "      (bn2): BatchNorm2d(256, eps=1e-05, momentum=0.1, affine=True, track_running_stats=True)\n",
       "    )\n",
       "  )\n",
       "  (layer4): Sequential(\n",
       "    (0): BasicBlock(\n",
       "      (conv1): Conv2d(256, 512, kernel_size=(3, 3), stride=(2, 2), padding=(1, 1), bias=False)\n",
       "      (bn1): BatchNorm2d(512, eps=1e-05, momentum=0.1, affine=True, track_running_stats=True)\n",
       "      (relu): ReLU(inplace=True)\n",
       "      (conv2): Conv2d(512, 512, kernel_size=(3, 3), stride=(1, 1), padding=(1, 1), bias=False)\n",
       "      (bn2): BatchNorm2d(512, eps=1e-05, momentum=0.1, affine=True, track_running_stats=True)\n",
       "      (downsample): Sequential(\n",
       "        (0): Conv2d(256, 512, kernel_size=(1, 1), stride=(2, 2), bias=False)\n",
       "        (1): BatchNorm2d(512, eps=1e-05, momentum=0.1, affine=True, track_running_stats=True)\n",
       "      )\n",
       "    )\n",
       "    (1): BasicBlock(\n",
       "      (conv1): Conv2d(512, 512, kernel_size=(3, 3), stride=(1, 1), padding=(1, 1), bias=False)\n",
       "      (bn1): BatchNorm2d(512, eps=1e-05, momentum=0.1, affine=True, track_running_stats=True)\n",
       "      (relu): ReLU(inplace=True)\n",
       "      (conv2): Conv2d(512, 512, kernel_size=(3, 3), stride=(1, 1), padding=(1, 1), bias=False)\n",
       "      (bn2): BatchNorm2d(512, eps=1e-05, momentum=0.1, affine=True, track_running_stats=True)\n",
       "    )\n",
       "  )\n",
       "  (avgpool): AdaptiveAvgPool2d(output_size=(1, 1))\n",
       "  (fc): Linear(in_features=512, out_features=1000, bias=True)\n",
       ")"
      ]
     },
     "execution_count": 34,
     "metadata": {},
     "output_type": "execute_result"
    }
   ],
   "source": [
    "model.cuda(GPU)\n",
    "# model = torch.nn.parallel.DistributedDataParallel(model, device_ids=[GPU])\n",
    "# model = torch.nn.parallel.DistributedDataParallel(model)"
   ]
  },
  {
   "cell_type": "code",
   "execution_count": 35,
   "id": "homeless-ethernet",
   "metadata": {
    "id": "b8dc59b5"
   },
   "outputs": [],
   "source": [
    "criterion = nn.CrossEntropyLoss().cuda(GPU)"
   ]
  },
  {
   "cell_type": "code",
   "execution_count": 36,
   "id": "cognitive-explorer",
   "metadata": {
    "id": "3999d84a"
   },
   "outputs": [],
   "source": [
    "optimizer = torch.optim.SGD(model.parameters(), LR,\n",
    "                                momentum=MOMENTUM,\n",
    "                                weight_decay=WEIGHT_DECAY)"
   ]
  },
  {
   "cell_type": "code",
   "execution_count": 37,
   "id": "temporal-attachment",
   "metadata": {
    "id": "9fae338b"
   },
   "outputs": [],
   "source": [
    "scheduler = torch.optim.lr_scheduler.CosineAnnealingLR(optimizer, T_max=EPOCHS)"
   ]
  },
  {
   "cell_type": "code",
   "execution_count": 38,
   "id": "seven-forum",
   "metadata": {
    "id": "34dbcdb1"
   },
   "outputs": [],
   "source": [
    "transform_train = transforms.Compose([\n",
    "    transforms.Resize((256,256)),\n",
    "    transforms.CenterCrop(IMG_SIZE),\n",
    "    transforms.RandomHorizontalFlip(),\n",
    "    transforms.ToTensor(),\n",
    "    transforms.Normalize(imagenet_mean_RGB, imagenet_std_RGB),\n",
    "])"
   ]
  },
  {
   "cell_type": "code",
   "execution_count": 39,
   "id": "painful-badge",
   "metadata": {
    "id": "e5275a69"
   },
   "outputs": [],
   "source": [
    "train_dataset = datasets.ImageFolder(\n",
    "    TRAINDIR, transform=transform_train)"
   ]
  },
  {
   "cell_type": "code",
   "execution_count": 40,
   "id": "durable-median",
   "metadata": {
    "id": "854ca1ad"
   },
   "outputs": [],
   "source": [
    "transform_val = transforms.Compose([\n",
    "    transforms.Resize((256,256)),\n",
    "    transforms.ToTensor(),\n",
    "    transforms.Normalize(imagenet_mean_RGB, imagenet_std_RGB),\n",
    "])"
   ]
  },
  {
   "cell_type": "code",
   "execution_count": 41,
   "id": "comparable-anderson",
   "metadata": {
    "id": "abfa5fb6"
   },
   "outputs": [],
   "source": [
    "val_dataset = datasets.ImageFolder(\n",
    "    VALDIR, transform=transform_val)"
   ]
  },
  {
   "cell_type": "code",
   "execution_count": 42,
   "id": "damaged-genre",
   "metadata": {
    "id": "07a0bdf4"
   },
   "outputs": [],
   "source": [
    "train_loader = torch.utils.data.DataLoader(\n",
    "        train_dataset, batch_size=TRAIN_BATCH, shuffle=True,\n",
    "        num_workers=WORKERS, pin_memory=True, sampler=None)"
   ]
  },
  {
   "cell_type": "code",
   "execution_count": 43,
   "id": "productive-optimum",
   "metadata": {
    "id": "192ae835"
   },
   "outputs": [],
   "source": [
    "val_loader = torch.utils.data.DataLoader(\n",
    "        val_dataset, batch_size=VAL_BATCH, shuffle=False,\n",
    "        num_workers=WORKERS, pin_memory=True, sampler=None)"
   ]
  },
  {
   "cell_type": "code",
   "execution_count": null,
   "id": "agreed-cancer",
   "metadata": {},
   "outputs": [],
   "source": []
  },
  {
   "cell_type": "code",
   "execution_count": null,
   "id": "compliant-commercial",
   "metadata": {},
   "outputs": [],
   "source": []
  },
  {
   "cell_type": "code",
   "execution_count": 44,
   "id": "grateful-margin",
   "metadata": {
    "id": "1502c5db"
   },
   "outputs": [],
   "source": [
    "best_acc1 = 0"
   ]
  },
  {
   "cell_type": "code",
   "execution_count": 45,
   "id": "spanish-manitoba",
   "metadata": {
    "id": "ceb95e07"
   },
   "outputs": [
    {
     "name": "stdout",
     "output_type": "stream",
     "text": [
      "Epoch: [0][   0/2563]\tTime 11.629 (11.629)\tData  4.655 ( 4.655)\tLoss 7.0278e+00 (7.0278e+00)\tAcc@1   0.00 (  0.00)\tAcc@5   1.00 (  1.00)\n",
      "Epoch: [0][  10/2563]\tTime  0.912 ( 2.193)\tData  0.196 ( 0.895)\tLoss 7.0486e+00 (7.0069e+00)\tAcc@1   0.40 (  0.15)\tAcc@5   1.00 (  0.76)\n",
      "Epoch: [0][  20/2563]\tTime  0.933 ( 2.188)\tData  0.216 ( 1.154)\tLoss 6.9316e+00 (7.0058e+00)\tAcc@1   0.20 (  0.22)\tAcc@5   1.80 (  0.99)\n",
      "Epoch: [0][  30/2563]\tTime  2.016 ( 2.260)\tData  1.295 ( 1.320)\tLoss 6.8457e+00 (6.9849e+00)\tAcc@1   0.40 (  0.23)\tAcc@5   2.00 (  1.08)\n",
      "Epoch: [0][  40/2563]\tTime  2.224 ( 2.282)\tData  1.503 ( 1.390)\tLoss 6.8265e+00 (6.9522e+00)\tAcc@1   0.40 (  0.33)\tAcc@5   2.00 (  1.34)\n",
      "Epoch: [0][  50/2563]\tTime  2.903 ( 2.290)\tData  2.135 ( 1.426)\tLoss 6.7876e+00 (6.9188e+00)\tAcc@1   0.20 (  0.35)\tAcc@5   1.20 (  1.42)\n",
      "Epoch: [0][  60/2563]\tTime  1.941 ( 2.293)\tData  1.216 ( 1.449)\tLoss 6.7110e+00 (6.8843e+00)\tAcc@1   0.80 (  0.37)\tAcc@5   2.80 (  1.52)\n",
      "Epoch: [0][  70/2563]\tTime  0.882 ( 2.292)\tData  0.152 ( 1.460)\tLoss 6.5721e+00 (6.8505e+00)\tAcc@1   1.00 (  0.41)\tAcc@5   2.80 (  1.67)\n",
      "Epoch: [0][  80/2563]\tTime  1.373 ( 2.304)\tData  0.638 ( 1.481)\tLoss 6.5930e+00 (6.8160e+00)\tAcc@1   0.60 (  0.46)\tAcc@5   2.40 (  1.86)\n",
      "Epoch: [0][  90/2563]\tTime  2.157 ( 2.321)\tData  1.423 ( 1.506)\tLoss 6.4705e+00 (6.7840e+00)\tAcc@1   1.40 (  0.49)\tAcc@5   4.00 (  2.03)\n",
      "Epoch: [0][ 100/2563]\tTime  2.260 ( 2.326)\tData  1.529 ( 1.516)\tLoss 6.4159e+00 (6.7539e+00)\tAcc@1   0.60 (  0.53)\tAcc@5   4.80 (  2.23)\n",
      "Epoch: [0][ 110/2563]\tTime  2.661 ( 2.330)\tData  1.882 ( 1.526)\tLoss 6.3521e+00 (6.7238e+00)\tAcc@1   0.40 (  0.55)\tAcc@5   4.40 (  2.43)\n",
      "Epoch: [0][ 120/2563]\tTime  2.005 ( 2.331)\tData  1.267 ( 1.531)\tLoss 6.4047e+00 (6.6964e+00)\tAcc@1   0.80 (  0.59)\tAcc@5   4.20 (  2.58)\n",
      "Epoch: [0][ 130/2563]\tTime  2.286 ( 2.338)\tData  1.549 ( 1.540)\tLoss 6.1665e+00 (6.6653e+00)\tAcc@1   1.20 (  0.66)\tAcc@5   6.00 (  2.80)\n",
      "Epoch: [0][ 140/2563]\tTime  2.386 ( 2.343)\tData  1.647 ( 1.548)\tLoss 6.3090e+00 (6.6394e+00)\tAcc@1   2.60 (  0.73)\tAcc@5   6.60 (  2.99)\n",
      "Epoch: [0][ 150/2563]\tTime  2.765 ( 2.350)\tData  1.968 ( 1.558)\tLoss 6.2507e+00 (6.6142e+00)\tAcc@1   1.40 (  0.78)\tAcc@5   6.00 (  3.16)\n",
      "Epoch: [0][ 160/2563]\tTime  2.410 ( 2.355)\tData  1.670 ( 1.565)\tLoss 6.2021e+00 (6.5887e+00)\tAcc@1   1.20 (  0.83)\tAcc@5   5.40 (  3.34)\n",
      "Epoch: [0][ 170/2563]\tTime  1.798 ( 2.363)\tData  1.057 ( 1.574)\tLoss 6.1053e+00 (6.5638e+00)\tAcc@1   1.60 (  0.86)\tAcc@5   6.00 (  3.51)\n",
      "Epoch: [0][ 180/2563]\tTime  0.916 ( 2.365)\tData  0.174 ( 1.578)\tLoss 6.0858e+00 (6.5398e+00)\tAcc@1   1.20 (  0.93)\tAcc@5   6.40 (  3.68)\n",
      "Epoch: [0][ 190/2563]\tTime  1.497 ( 2.368)\tData  0.758 ( 1.582)\tLoss 6.1065e+00 (6.5176e+00)\tAcc@1   2.00 (  0.98)\tAcc@5   6.60 (  3.83)\n",
      "Epoch: [0][ 200/2563]\tTime  1.586 ( 2.367)\tData  0.840 ( 1.581)\tLoss 6.0293e+00 (6.4972e+00)\tAcc@1   2.00 (  1.03)\tAcc@5   7.20 (  3.98)\n",
      "Epoch: [0][ 210/2563]\tTime  1.277 ( 2.364)\tData  0.533 ( 1.579)\tLoss 5.9249e+00 (6.4749e+00)\tAcc@1   2.00 (  1.08)\tAcc@5   9.20 (  4.18)\n",
      "Epoch: [0][ 220/2563]\tTime  2.895 ( 2.369)\tData  2.099 ( 1.584)\tLoss 5.9719e+00 (6.4520e+00)\tAcc@1   2.40 (  1.14)\tAcc@5   8.00 (  4.36)\n",
      "Epoch: [0][ 230/2563]\tTime  2.945 ( 2.370)\tData  2.153 ( 1.587)\tLoss 6.0063e+00 (6.4323e+00)\tAcc@1   2.40 (  1.20)\tAcc@5   7.20 (  4.52)\n",
      "Epoch: [0][ 240/2563]\tTime  1.317 ( 2.367)\tData  0.573 ( 1.585)\tLoss 5.9669e+00 (6.4107e+00)\tAcc@1   3.40 (  1.27)\tAcc@5   9.60 (  4.71)\n",
      "Epoch: [0][ 250/2563]\tTime  2.106 ( 2.368)\tData  1.361 ( 1.587)\tLoss 5.8882e+00 (6.3893e+00)\tAcc@1   3.00 (  1.33)\tAcc@5   9.40 (  4.90)\n",
      "Epoch: [0][ 260/2563]\tTime  2.164 ( 2.369)\tData  1.420 ( 1.589)\tLoss 5.8768e+00 (6.3697e+00)\tAcc@1   3.00 (  1.40)\tAcc@5   9.00 (  5.08)\n",
      "Epoch: [0][ 270/2563]\tTime  1.485 ( 2.368)\tData  0.737 ( 1.588)\tLoss 5.9876e+00 (6.3506e+00)\tAcc@1   4.00 (  1.46)\tAcc@5  10.20 (  5.26)\n",
      "Epoch: [0][ 280/2563]\tTime  1.675 ( 2.368)\tData  0.927 ( 1.588)\tLoss 5.8285e+00 (6.3318e+00)\tAcc@1   3.00 (  1.52)\tAcc@5  10.40 (  5.43)\n",
      "Epoch: [0][ 290/2563]\tTime  1.111 ( 2.366)\tData  0.362 ( 1.586)\tLoss 5.8472e+00 (6.3115e+00)\tAcc@1   3.20 (  1.59)\tAcc@5   9.60 (  5.63)\n",
      "Epoch: [0][ 300/2563]\tTime  0.755 ( 2.366)\tData  0.002 ( 1.587)\tLoss 5.7596e+00 (6.2936e+00)\tAcc@1   2.40 (  1.63)\tAcc@5   9.40 (  5.78)\n",
      "Epoch: [0][ 310/2563]\tTime  0.757 ( 2.364)\tData  0.002 ( 1.585)\tLoss 5.5942e+00 (6.2740e+00)\tAcc@1   3.60 (  1.68)\tAcc@5  13.60 (  5.98)\n",
      "Epoch: [0][ 320/2563]\tTime  0.757 ( 2.362)\tData  0.002 ( 1.583)\tLoss 5.6708e+00 (6.2555e+00)\tAcc@1   4.00 (  1.73)\tAcc@5  13.20 (  6.15)\n",
      "Epoch: [0][ 330/2563]\tTime  1.526 ( 2.363)\tData  0.780 ( 1.584)\tLoss 5.6235e+00 (6.2387e+00)\tAcc@1   4.80 (  1.79)\tAcc@5  12.20 (  6.31)\n",
      "Epoch: [0][ 340/2563]\tTime  1.521 ( 2.364)\tData  0.774 ( 1.585)\tLoss 5.6750e+00 (6.2201e+00)\tAcc@1   3.40 (  1.85)\tAcc@5  11.60 (  6.49)\n",
      "Epoch: [0][ 350/2563]\tTime  1.124 ( 2.363)\tData  0.379 ( 1.584)\tLoss 5.5698e+00 (6.2025e+00)\tAcc@1   3.40 (  1.92)\tAcc@5  12.40 (  6.67)\n",
      "Epoch: [0][ 360/2563]\tTime  0.838 ( 2.362)\tData  0.092 ( 1.584)\tLoss 5.5132e+00 (6.1860e+00)\tAcc@1   3.60 (  1.98)\tAcc@5  14.00 (  6.85)\n",
      "Epoch: [0][ 370/2563]\tTime  0.838 ( 2.361)\tData  0.090 ( 1.583)\tLoss 5.6263e+00 (6.1689e+00)\tAcc@1   3.60 (  2.05)\tAcc@5  12.40 (  7.03)\n",
      "Epoch: [0][ 380/2563]\tTime  0.852 ( 2.360)\tData  0.108 ( 1.583)\tLoss 5.5614e+00 (6.1524e+00)\tAcc@1   4.40 (  2.11)\tAcc@5  10.40 (  7.19)\n",
      "Epoch: [0][ 390/2563]\tTime  1.718 ( 2.362)\tData  0.971 ( 1.584)\tLoss 5.5418e+00 (6.1371e+00)\tAcc@1   5.40 (  2.16)\tAcc@5  15.60 (  7.36)\n",
      "Epoch: [0][ 400/2563]\tTime  2.450 ( 2.362)\tData  1.704 ( 1.585)\tLoss 5.4994e+00 (6.1213e+00)\tAcc@1   4.00 (  2.22)\tAcc@5  15.60 (  7.53)\n",
      "Epoch: [0][ 410/2563]\tTime  2.971 ( 2.361)\tData  2.168 ( 1.584)\tLoss 5.4821e+00 (6.1052e+00)\tAcc@1   4.80 (  2.28)\tAcc@5  16.00 (  7.72)\n",
      "Epoch: [0][ 420/2563]\tTime  2.709 ( 2.360)\tData  1.900 ( 1.584)\tLoss 5.5146e+00 (6.0901e+00)\tAcc@1   3.80 (  2.35)\tAcc@5  13.20 (  7.88)\n",
      "Epoch: [0][ 430/2563]\tTime  1.789 ( 2.359)\tData  1.041 ( 1.583)\tLoss 5.4036e+00 (6.0742e+00)\tAcc@1   6.60 (  2.42)\tAcc@5  18.00 (  8.08)\n",
      "Epoch: [0][ 440/2563]\tTime  2.118 ( 2.361)\tData  1.373 ( 1.585)\tLoss 5.4315e+00 (6.0590e+00)\tAcc@1   4.60 (  2.48)\tAcc@5  14.20 (  8.25)\n",
      "Epoch: [0][ 450/2563]\tTime  2.964 ( 2.362)\tData  2.176 ( 1.586)\tLoss 5.3784e+00 (6.0439e+00)\tAcc@1   5.60 (  2.55)\tAcc@5  14.80 (  8.42)\n",
      "Epoch: [0][ 460/2563]\tTime  3.175 ( 2.362)\tData  2.376 ( 1.586)\tLoss 5.3682e+00 (6.0296e+00)\tAcc@1   5.00 (  2.61)\tAcc@5  15.20 (  8.58)\n",
      "Epoch: [0][ 470/2563]\tTime  2.848 ( 2.361)\tData  2.063 ( 1.586)\tLoss 5.2931e+00 (6.0150e+00)\tAcc@1   7.20 (  2.67)\tAcc@5  17.60 (  8.75)\n",
      "Epoch: [0][ 480/2563]\tTime  3.481 ( 2.363)\tData  2.673 ( 1.587)\tLoss 5.4080e+00 (6.0003e+00)\tAcc@1   4.80 (  2.74)\tAcc@5  15.20 (  8.94)\n",
      "Epoch: [0][ 490/2563]\tTime  2.922 ( 2.363)\tData  2.112 ( 1.587)\tLoss 5.1679e+00 (5.9856e+00)\tAcc@1   6.40 (  2.80)\tAcc@5  17.80 (  9.11)\n",
      "Epoch: [0][ 500/2563]\tTime  2.792 ( 2.362)\tData  1.983 ( 1.587)\tLoss 5.2064e+00 (5.9709e+00)\tAcc@1   6.60 (  2.86)\tAcc@5  19.00 (  9.29)\n",
      "Epoch: [0][ 510/2563]\tTime  1.811 ( 2.360)\tData  1.066 ( 1.585)\tLoss 5.2659e+00 (5.9567e+00)\tAcc@1   7.00 (  2.93)\tAcc@5  18.00 (  9.48)\n",
      "Epoch: [0][ 520/2563]\tTime  1.304 ( 2.359)\tData  0.554 ( 1.584)\tLoss 5.2276e+00 (5.9425e+00)\tAcc@1   6.20 (  3.00)\tAcc@5  17.40 (  9.65)\n",
      "Epoch: [0][ 530/2563]\tTime  1.142 ( 2.358)\tData  0.395 ( 1.582)\tLoss 5.2540e+00 (5.9286e+00)\tAcc@1   7.60 (  3.07)\tAcc@5  17.40 (  9.82)\n",
      "Epoch: [0][ 540/2563]\tTime  1.373 ( 2.356)\tData  0.625 ( 1.581)\tLoss 5.2212e+00 (5.9152e+00)\tAcc@1   6.00 (  3.14)\tAcc@5  20.80 ( 10.00)\n",
      "Epoch: [0][ 550/2563]\tTime  2.430 ( 2.357)\tData  1.681 ( 1.581)\tLoss 5.0613e+00 (5.9021e+00)\tAcc@1   7.60 (  3.21)\tAcc@5  21.40 ( 10.17)\n",
      "Epoch: [0][ 560/2563]\tTime  1.751 ( 2.356)\tData  1.000 ( 1.581)\tLoss 5.0557e+00 (5.8887e+00)\tAcc@1   8.20 (  3.28)\tAcc@5  21.40 ( 10.35)\n",
      "Epoch: [0][ 570/2563]\tTime  3.001 ( 2.359)\tData  2.211 ( 1.584)\tLoss 5.2028e+00 (5.8753e+00)\tAcc@1   6.20 (  3.36)\tAcc@5  18.40 ( 10.52)\n",
      "Epoch: [0][ 580/2563]\tTime  3.089 ( 2.359)\tData  2.274 ( 1.584)\tLoss 5.0327e+00 (5.8626e+00)\tAcc@1   6.60 (  3.42)\tAcc@5  19.80 ( 10.69)\n",
      "Epoch: [0][ 590/2563]\tTime  3.005 ( 2.359)\tData  2.218 ( 1.584)\tLoss 5.1880e+00 (5.8498e+00)\tAcc@1   6.80 (  3.50)\tAcc@5  18.80 ( 10.86)\n"
     ]
    },
    {
     "name": "stdout",
     "output_type": "stream",
     "text": [
      "Epoch: [0][ 600/2563]\tTime  2.519 ( 2.359)\tData  1.770 ( 1.585)\tLoss 5.0334e+00 (5.8362e+00)\tAcc@1   7.60 (  3.57)\tAcc@5  22.60 ( 11.04)\n",
      "Epoch: [0][ 610/2563]\tTime  2.478 ( 2.358)\tData  1.729 ( 1.584)\tLoss 4.8961e+00 (5.8233e+00)\tAcc@1  10.00 (  3.64)\tAcc@5  25.00 ( 11.22)\n",
      "Epoch: [0][ 620/2563]\tTime  1.794 ( 2.358)\tData  1.042 ( 1.584)\tLoss 5.0007e+00 (5.8105e+00)\tAcc@1   7.60 (  3.71)\tAcc@5  21.80 ( 11.40)\n",
      "Epoch: [0][ 630/2563]\tTime  2.434 ( 2.359)\tData  1.685 ( 1.585)\tLoss 4.9847e+00 (5.7983e+00)\tAcc@1   9.00 (  3.78)\tAcc@5  21.80 ( 11.56)\n",
      "Epoch: [0][ 640/2563]\tTime  2.880 ( 2.359)\tData  2.095 ( 1.586)\tLoss 4.9237e+00 (5.7860e+00)\tAcc@1   6.40 (  3.84)\tAcc@5  23.00 ( 11.74)\n",
      "Epoch: [0][ 650/2563]\tTime  2.717 ( 2.360)\tData  1.931 ( 1.587)\tLoss 5.0263e+00 (5.7738e+00)\tAcc@1   7.20 (  3.91)\tAcc@5  22.80 ( 11.90)\n",
      "Epoch: [0][ 660/2563]\tTime  2.996 ( 2.362)\tData  2.207 ( 1.588)\tLoss 5.0261e+00 (5.7623e+00)\tAcc@1   7.20 (  3.97)\tAcc@5  23.00 ( 12.06)\n",
      "Epoch: [0][ 670/2563]\tTime  3.031 ( 2.362)\tData  2.225 ( 1.588)\tLoss 4.9201e+00 (5.7511e+00)\tAcc@1  10.20 (  4.04)\tAcc@5  24.80 ( 12.23)\n",
      "Epoch: [0][ 680/2563]\tTime  2.278 ( 2.362)\tData  1.531 ( 1.589)\tLoss 4.8762e+00 (5.7392e+00)\tAcc@1   9.80 (  4.12)\tAcc@5  24.60 ( 12.39)\n",
      "Epoch: [0][ 690/2563]\tTime  2.042 ( 2.364)\tData  1.293 ( 1.590)\tLoss 4.9020e+00 (5.7272e+00)\tAcc@1   8.60 (  4.19)\tAcc@5  23.60 ( 12.57)\n",
      "Epoch: [0][ 700/2563]\tTime  1.674 ( 2.364)\tData  0.925 ( 1.590)\tLoss 4.9060e+00 (5.7160e+00)\tAcc@1  10.80 (  4.25)\tAcc@5  24.40 ( 12.73)\n",
      "Epoch: [0][ 710/2563]\tTime  1.219 ( 2.365)\tData  0.469 ( 1.591)\tLoss 4.9236e+00 (5.7044e+00)\tAcc@1   7.40 (  4.32)\tAcc@5  25.20 ( 12.91)\n",
      "Epoch: [0][ 720/2563]\tTime  1.765 ( 2.366)\tData  1.014 ( 1.593)\tLoss 4.9748e+00 (5.6930e+00)\tAcc@1   9.20 (  4.39)\tAcc@5  23.00 ( 13.07)\n",
      "Epoch: [0][ 730/2563]\tTime  0.842 ( 2.368)\tData  0.093 ( 1.594)\tLoss 4.8691e+00 (5.6813e+00)\tAcc@1   8.20 (  4.46)\tAcc@5  23.20 ( 13.25)\n",
      "Epoch: [0][ 740/2563]\tTime  0.838 ( 2.369)\tData  0.091 ( 1.595)\tLoss 4.8784e+00 (5.6708e+00)\tAcc@1  10.80 (  4.53)\tAcc@5  26.40 ( 13.42)\n",
      "Epoch: [0][ 750/2563]\tTime  0.840 ( 2.371)\tData  0.093 ( 1.597)\tLoss 4.8400e+00 (5.6599e+00)\tAcc@1   9.40 (  4.60)\tAcc@5  24.40 ( 13.58)\n",
      "Epoch: [0][ 760/2563]\tTime  0.751 ( 2.372)\tData  0.002 ( 1.598)\tLoss 4.6754e+00 (5.6483e+00)\tAcc@1  12.60 (  4.68)\tAcc@5  29.80 ( 13.76)\n",
      "Epoch: [0][ 770/2563]\tTime  0.750 ( 2.374)\tData  0.002 ( 1.600)\tLoss 4.7695e+00 (5.6372e+00)\tAcc@1  11.40 (  4.75)\tAcc@5  26.60 ( 13.92)\n",
      "Epoch: [0][ 780/2563]\tTime  0.756 ( 2.376)\tData  0.002 ( 1.602)\tLoss 4.8872e+00 (5.6263e+00)\tAcc@1   8.60 (  4.81)\tAcc@5  24.80 ( 14.08)\n",
      "Epoch: [0][ 790/2563]\tTime  0.752 ( 2.377)\tData  0.003 ( 1.603)\tLoss 4.7809e+00 (5.6157e+00)\tAcc@1   9.20 (  4.88)\tAcc@5  25.40 ( 14.24)\n",
      "Epoch: [0][ 800/2563]\tTime  0.754 ( 2.377)\tData  0.002 ( 1.604)\tLoss 4.6816e+00 (5.6049e+00)\tAcc@1  12.60 (  4.95)\tAcc@5  30.20 ( 14.41)\n",
      "Epoch: [0][ 810/2563]\tTime  0.747 ( 2.378)\tData  0.002 ( 1.605)\tLoss 4.8022e+00 (5.5945e+00)\tAcc@1  10.80 (  5.02)\tAcc@5  27.00 ( 14.55)\n",
      "Epoch: [0][ 820/2563]\tTime  0.751 ( 2.379)\tData  0.003 ( 1.606)\tLoss 4.7602e+00 (5.5843e+00)\tAcc@1  10.40 (  5.09)\tAcc@5  28.00 ( 14.71)\n",
      "Epoch: [0][ 830/2563]\tTime  0.750 ( 2.381)\tData  0.002 ( 1.607)\tLoss 4.6794e+00 (5.5735e+00)\tAcc@1   9.60 (  5.17)\tAcc@5  28.20 ( 14.88)\n",
      "Epoch: [0][ 840/2563]\tTime  0.751 ( 2.381)\tData  0.002 ( 1.607)\tLoss 4.6613e+00 (5.5628e+00)\tAcc@1  13.60 (  5.24)\tAcc@5  29.80 ( 15.04)\n",
      "Epoch: [0][ 850/2563]\tTime  0.748 ( 2.380)\tData  0.003 ( 1.607)\tLoss 4.4587e+00 (5.5519e+00)\tAcc@1  12.60 (  5.33)\tAcc@5  30.40 ( 15.20)\n",
      "Epoch: [0][ 860/2563]\tTime  0.751 ( 2.380)\tData  0.003 ( 1.607)\tLoss 4.6324e+00 (5.5421e+00)\tAcc@1  12.60 (  5.39)\tAcc@5  30.40 ( 15.35)\n",
      "Epoch: [0][ 870/2563]\tTime  0.746 ( 2.380)\tData  0.002 ( 1.607)\tLoss 4.6471e+00 (5.5324e+00)\tAcc@1  12.00 (  5.45)\tAcc@5  28.20 ( 15.50)\n",
      "Epoch: [0][ 880/2563]\tTime  0.748 ( 2.381)\tData  0.002 ( 1.607)\tLoss 4.6450e+00 (5.5224e+00)\tAcc@1  11.40 (  5.53)\tAcc@5  28.40 ( 15.66)\n",
      "Epoch: [0][ 890/2563]\tTime  0.749 ( 2.380)\tData  0.002 ( 1.607)\tLoss 4.6133e+00 (5.5125e+00)\tAcc@1  12.40 (  5.59)\tAcc@5  31.40 ( 15.82)\n",
      "Epoch: [0][ 900/2563]\tTime  0.750 ( 2.381)\tData  0.002 ( 1.608)\tLoss 4.5576e+00 (5.5026e+00)\tAcc@1  11.80 (  5.67)\tAcc@5  28.60 ( 15.97)\n",
      "Epoch: [0][ 910/2563]\tTime  0.752 ( 2.382)\tData  0.002 ( 1.609)\tLoss 4.4883e+00 (5.4925e+00)\tAcc@1  14.40 (  5.74)\tAcc@5  30.00 ( 16.13)\n",
      "Epoch: [0][ 920/2563]\tTime  0.749 ( 2.382)\tData  0.002 ( 1.609)\tLoss 4.5339e+00 (5.4831e+00)\tAcc@1  11.80 (  5.81)\tAcc@5  31.40 ( 16.28)\n",
      "Epoch: [0][ 930/2563]\tTime  0.750 ( 2.383)\tData  0.002 ( 1.610)\tLoss 4.5115e+00 (5.4733e+00)\tAcc@1  11.80 (  5.88)\tAcc@5  35.20 ( 16.44)\n",
      "Epoch: [0][ 940/2563]\tTime  0.746 ( 2.383)\tData  0.002 ( 1.610)\tLoss 4.5214e+00 (5.4640e+00)\tAcc@1  14.40 (  5.95)\tAcc@5  30.20 ( 16.59)\n",
      "Epoch: [0][ 950/2563]\tTime  0.750 ( 2.383)\tData  0.003 ( 1.610)\tLoss 4.6346e+00 (5.4548e+00)\tAcc@1  10.80 (  6.03)\tAcc@5  29.40 ( 16.74)\n",
      "Epoch: [0][ 960/2563]\tTime  0.753 ( 2.384)\tData  0.002 ( 1.611)\tLoss 4.4569e+00 (5.4451e+00)\tAcc@1  12.80 (  6.10)\tAcc@5  33.00 ( 16.89)\n",
      "Epoch: [0][ 970/2563]\tTime  0.750 ( 2.385)\tData  0.003 ( 1.612)\tLoss 4.4982e+00 (5.4358e+00)\tAcc@1  13.20 (  6.17)\tAcc@5  30.20 ( 17.04)\n",
      "Epoch: [0][ 980/2563]\tTime  0.747 ( 2.385)\tData  0.002 ( 1.612)\tLoss 4.4366e+00 (5.4266e+00)\tAcc@1  14.20 (  6.25)\tAcc@5  35.00 ( 17.18)\n",
      "Epoch: [0][ 990/2563]\tTime  0.748 ( 2.384)\tData  0.002 ( 1.611)\tLoss 4.4601e+00 (5.4173e+00)\tAcc@1  15.40 (  6.32)\tAcc@5  32.20 ( 17.32)\n",
      "Epoch: [0][1000/2563]\tTime  0.749 ( 2.386)\tData  0.002 ( 1.613)\tLoss 4.4884e+00 (5.4086e+00)\tAcc@1  12.60 (  6.38)\tAcc@5  33.40 ( 17.46)\n",
      "Epoch: [0][1010/2563]\tTime  0.750 ( 2.385)\tData  0.002 ( 1.612)\tLoss 4.4244e+00 (5.3998e+00)\tAcc@1  14.20 (  6.45)\tAcc@5  35.00 ( 17.61)\n",
      "Epoch: [0][1020/2563]\tTime  0.748 ( 2.386)\tData  0.003 ( 1.614)\tLoss 4.4245e+00 (5.3906e+00)\tAcc@1  12.80 (  6.53)\tAcc@5  34.40 ( 17.76)\n",
      "Epoch: [0][1030/2563]\tTime  0.748 ( 2.387)\tData  0.003 ( 1.614)\tLoss 4.5399e+00 (5.3818e+00)\tAcc@1  12.40 (  6.60)\tAcc@5  31.60 ( 17.91)\n",
      "Epoch: [0][1040/2563]\tTime  0.750 ( 2.387)\tData  0.002 ( 1.614)\tLoss 4.3896e+00 (5.3727e+00)\tAcc@1  13.40 (  6.66)\tAcc@5  35.20 ( 18.07)\n",
      "Epoch: [0][1050/2563]\tTime  0.751 ( 2.387)\tData  0.002 ( 1.614)\tLoss 4.4240e+00 (5.3634e+00)\tAcc@1  14.20 (  6.73)\tAcc@5  34.80 ( 18.23)\n",
      "Epoch: [0][1060/2563]\tTime  0.746 ( 2.386)\tData  0.002 ( 1.614)\tLoss 4.5228e+00 (5.3543e+00)\tAcc@1  12.60 (  6.81)\tAcc@5  31.00 ( 18.37)\n",
      "Epoch: [0][1070/2563]\tTime  0.750 ( 2.387)\tData  0.002 ( 1.614)\tLoss 4.3959e+00 (5.3456e+00)\tAcc@1  14.60 (  6.87)\tAcc@5  33.80 ( 18.51)\n",
      "Epoch: [0][1080/2563]\tTime  0.746 ( 2.387)\tData  0.003 ( 1.614)\tLoss 4.5171e+00 (5.3364e+00)\tAcc@1  13.80 (  6.95)\tAcc@5  30.80 ( 18.66)\n",
      "Epoch: [0][1090/2563]\tTime  0.747 ( 2.387)\tData  0.002 ( 1.615)\tLoss 4.3684e+00 (5.3275e+00)\tAcc@1  14.60 (  7.02)\tAcc@5  34.00 ( 18.81)\n",
      "Epoch: [0][1100/2563]\tTime  0.747 ( 2.388)\tData  0.002 ( 1.615)\tLoss 4.4231e+00 (5.3188e+00)\tAcc@1  15.00 (  7.09)\tAcc@5  35.20 ( 18.95)\n",
      "Epoch: [0][1110/2563]\tTime  0.748 ( 2.387)\tData  0.002 ( 1.615)\tLoss 4.2779e+00 (5.3099e+00)\tAcc@1  17.00 (  7.17)\tAcc@5  36.60 ( 19.10)\n",
      "Epoch: [0][1120/2563]\tTime  0.748 ( 2.388)\tData  0.003 ( 1.615)\tLoss 4.2256e+00 (5.3011e+00)\tAcc@1  14.00 (  7.23)\tAcc@5  38.80 ( 19.25)\n",
      "Epoch: [0][1130/2563]\tTime  0.751 ( 2.388)\tData  0.003 ( 1.616)\tLoss 4.3244e+00 (5.2930e+00)\tAcc@1  12.60 (  7.30)\tAcc@5  36.00 ( 19.38)\n",
      "Epoch: [0][1140/2563]\tTime  0.838 ( 2.388)\tData  0.096 ( 1.615)\tLoss 4.2208e+00 (5.2846e+00)\tAcc@1  15.60 (  7.36)\tAcc@5  38.80 ( 19.52)\n",
      "Epoch: [0][1150/2563]\tTime  0.747 ( 2.388)\tData  0.002 ( 1.616)\tLoss 4.3122e+00 (5.2758e+00)\tAcc@1  15.40 (  7.44)\tAcc@5  34.40 ( 19.67)\n",
      "Epoch: [0][1160/2563]\tTime  0.747 ( 2.388)\tData  0.002 ( 1.615)\tLoss 4.3852e+00 (5.2676e+00)\tAcc@1  13.80 (  7.51)\tAcc@5  33.00 ( 19.80)\n",
      "Epoch: [0][1170/2563]\tTime  0.751 ( 2.388)\tData  0.002 ( 1.615)\tLoss 4.4346e+00 (5.2598e+00)\tAcc@1  15.40 (  7.57)\tAcc@5  33.20 ( 19.94)\n",
      "Epoch: [0][1180/2563]\tTime  1.240 ( 2.388)\tData  0.496 ( 1.616)\tLoss 4.3057e+00 (5.2517e+00)\tAcc@1  15.80 (  7.64)\tAcc@5  38.40 ( 20.08)\n",
      "Epoch: [0][1190/2563]\tTime  1.370 ( 2.389)\tData  0.625 ( 1.617)\tLoss 4.2030e+00 (5.2433e+00)\tAcc@1  17.60 (  7.72)\tAcc@5  37.40 ( 20.22)\n"
     ]
    },
    {
     "name": "stdout",
     "output_type": "stream",
     "text": [
      "Epoch: [0][1200/2563]\tTime  1.045 ( 2.389)\tData  0.302 ( 1.616)\tLoss 4.1777e+00 (5.2351e+00)\tAcc@1  16.20 (  7.78)\tAcc@5  38.60 ( 20.36)\n",
      "Epoch: [0][1210/2563]\tTime  0.856 ( 2.389)\tData  0.111 ( 1.617)\tLoss 4.2768e+00 (5.2267e+00)\tAcc@1  18.00 (  7.86)\tAcc@5  36.80 ( 20.50)\n",
      "Epoch: [0][1220/2563]\tTime  0.754 ( 2.390)\tData  0.002 ( 1.617)\tLoss 4.2146e+00 (5.2188e+00)\tAcc@1  16.20 (  7.93)\tAcc@5  37.20 ( 20.63)\n",
      "Epoch: [0][1230/2563]\tTime  0.752 ( 2.389)\tData  0.002 ( 1.617)\tLoss 4.2961e+00 (5.2110e+00)\tAcc@1  16.00 (  8.00)\tAcc@5  36.40 ( 20.76)\n",
      "Epoch: [0][1240/2563]\tTime  0.837 ( 2.390)\tData  0.094 ( 1.617)\tLoss 4.1781e+00 (5.2030e+00)\tAcc@1  17.40 (  8.07)\tAcc@5  38.60 ( 20.90)\n",
      "Epoch: [0][1250/2563]\tTime  0.836 ( 2.389)\tData  0.093 ( 1.617)\tLoss 4.0894e+00 (5.1950e+00)\tAcc@1  17.80 (  8.14)\tAcc@5  37.60 ( 21.03)\n",
      "Epoch: [0][1260/2563]\tTime  0.837 ( 2.389)\tData  0.094 ( 1.617)\tLoss 4.2817e+00 (5.1871e+00)\tAcc@1  16.60 (  8.21)\tAcc@5  35.60 ( 21.16)\n",
      "Epoch: [0][1270/2563]\tTime  1.322 ( 2.390)\tData  0.580 ( 1.617)\tLoss 4.2732e+00 (5.1793e+00)\tAcc@1  15.80 (  8.28)\tAcc@5  37.20 ( 21.30)\n",
      "Epoch: [0][1280/2563]\tTime  0.834 ( 2.389)\tData  0.092 ( 1.617)\tLoss 4.1753e+00 (5.1714e+00)\tAcc@1  16.80 (  8.35)\tAcc@5  37.20 ( 21.44)\n",
      "Epoch: [0][1290/2563]\tTime  0.750 ( 2.389)\tData  0.003 ( 1.617)\tLoss 4.0598e+00 (5.1634e+00)\tAcc@1  18.60 (  8.43)\tAcc@5  41.00 ( 21.58)\n",
      "Epoch: [0][1300/2563]\tTime  0.753 ( 2.390)\tData  0.003 ( 1.618)\tLoss 3.9578e+00 (5.1552e+00)\tAcc@1  19.40 (  8.51)\tAcc@5  42.20 ( 21.72)\n",
      "Epoch: [0][1310/2563]\tTime  0.748 ( 2.390)\tData  0.003 ( 1.618)\tLoss 4.1706e+00 (5.1477e+00)\tAcc@1  16.20 (  8.58)\tAcc@5  38.60 ( 21.84)\n",
      "Epoch: [0][1320/2563]\tTime  0.752 ( 2.390)\tData  0.002 ( 1.618)\tLoss 4.1553e+00 (5.1399e+00)\tAcc@1  16.60 (  8.65)\tAcc@5  37.60 ( 21.98)\n",
      "Epoch: [0][1330/2563]\tTime  0.750 ( 2.389)\tData  0.002 ( 1.617)\tLoss 4.0760e+00 (5.1317e+00)\tAcc@1  16.40 (  8.73)\tAcc@5  40.60 ( 22.12)\n",
      "Epoch: [0][1340/2563]\tTime  0.749 ( 2.388)\tData  0.002 ( 1.616)\tLoss 4.0221e+00 (5.1237e+00)\tAcc@1  18.40 (  8.81)\tAcc@5  42.20 ( 22.26)\n",
      "Epoch: [0][1350/2563]\tTime  0.749 ( 2.387)\tData  0.002 ( 1.615)\tLoss 4.2386e+00 (5.1162e+00)\tAcc@1  14.80 (  8.87)\tAcc@5  36.20 ( 22.39)\n",
      "Epoch: [0][1360/2563]\tTime  0.751 ( 2.387)\tData  0.002 ( 1.615)\tLoss 3.8664e+00 (5.1086e+00)\tAcc@1  22.00 (  8.95)\tAcc@5  42.20 ( 22.52)\n",
      "Epoch: [0][1370/2563]\tTime  0.748 ( 2.387)\tData  0.003 ( 1.615)\tLoss 4.2075e+00 (5.1011e+00)\tAcc@1  16.60 (  9.01)\tAcc@5  38.20 ( 22.65)\n",
      "Epoch: [0][1380/2563]\tTime  0.750 ( 2.387)\tData  0.002 ( 1.615)\tLoss 3.9523e+00 (5.0936e+00)\tAcc@1  19.20 (  9.07)\tAcc@5  44.20 ( 22.78)\n",
      "Epoch: [0][1390/2563]\tTime  0.835 ( 2.387)\tData  0.091 ( 1.615)\tLoss 3.9019e+00 (5.0859e+00)\tAcc@1  22.80 (  9.15)\tAcc@5  43.80 ( 22.91)\n",
      "Epoch: [0][1400/2563]\tTime  0.838 ( 2.387)\tData  0.093 ( 1.615)\tLoss 4.1723e+00 (5.0789e+00)\tAcc@1  19.40 (  9.21)\tAcc@5  38.40 ( 23.03)\n",
      "Epoch: [0][1410/2563]\tTime  0.753 ( 2.387)\tData  0.003 ( 1.615)\tLoss 4.0925e+00 (5.0720e+00)\tAcc@1  18.40 (  9.27)\tAcc@5  41.20 ( 23.15)\n",
      "Epoch: [0][1420/2563]\tTime  0.750 ( 2.388)\tData  0.002 ( 1.616)\tLoss 4.0660e+00 (5.0647e+00)\tAcc@1  17.40 (  9.34)\tAcc@5  39.20 ( 23.28)\n",
      "Epoch: [0][1430/2563]\tTime  0.899 ( 2.388)\tData  0.158 ( 1.616)\tLoss 3.9645e+00 (5.0576e+00)\tAcc@1  19.60 (  9.41)\tAcc@5  43.20 ( 23.40)\n",
      "Epoch: [0][1440/2563]\tTime  1.997 ( 2.389)\tData  1.251 ( 1.617)\tLoss 4.0312e+00 (5.0506e+00)\tAcc@1  18.40 (  9.47)\tAcc@5  39.80 ( 23.52)\n",
      "Epoch: [0][1450/2563]\tTime  2.572 ( 2.389)\tData  1.791 ( 1.617)\tLoss 3.8970e+00 (5.0437e+00)\tAcc@1  20.20 (  9.54)\tAcc@5  42.60 ( 23.64)\n",
      "Epoch: [0][1460/2563]\tTime  2.229 ( 2.389)\tData  1.486 ( 1.617)\tLoss 3.9177e+00 (5.0367e+00)\tAcc@1  19.40 (  9.61)\tAcc@5  45.20 ( 23.77)\n",
      "Epoch: [0][1470/2563]\tTime  2.679 ( 2.388)\tData  1.867 ( 1.617)\tLoss 3.8879e+00 (5.0289e+00)\tAcc@1  21.40 (  9.68)\tAcc@5  44.20 ( 23.90)\n",
      "Epoch: [0][1480/2563]\tTime  2.166 ( 2.388)\tData  1.418 ( 1.616)\tLoss 3.9921e+00 (5.0220e+00)\tAcc@1  20.00 (  9.75)\tAcc@5  38.80 ( 24.02)\n",
      "Epoch: [0][1490/2563]\tTime  3.094 ( 2.389)\tData  2.303 ( 1.617)\tLoss 3.8846e+00 (5.0146e+00)\tAcc@1  20.00 (  9.82)\tAcc@5  43.40 ( 24.16)\n",
      "Epoch: [0][1500/2563]\tTime  2.564 ( 2.388)\tData  1.809 ( 1.617)\tLoss 3.8000e+00 (5.0076e+00)\tAcc@1  22.80 (  9.89)\tAcc@5  45.80 ( 24.28)\n",
      "Epoch: [0][1510/2563]\tTime  2.566 ( 2.388)\tData  1.820 ( 1.617)\tLoss 3.8490e+00 (5.0005e+00)\tAcc@1  22.00 (  9.96)\tAcc@5  45.40 ( 24.40)\n",
      "Epoch: [0][1520/2563]\tTime  2.947 ( 2.389)\tData  2.163 ( 1.617)\tLoss 3.9729e+00 (4.9935e+00)\tAcc@1  19.00 ( 10.03)\tAcc@5  42.40 ( 24.53)\n",
      "Epoch: [0][1530/2563]\tTime  2.420 ( 2.389)\tData  1.674 ( 1.617)\tLoss 3.8121e+00 (4.9865e+00)\tAcc@1  22.20 ( 10.09)\tAcc@5  45.20 ( 24.65)\n",
      "Epoch: [0][1540/2563]\tTime  2.400 ( 2.389)\tData  1.651 ( 1.618)\tLoss 3.9574e+00 (4.9795e+00)\tAcc@1  21.20 ( 10.16)\tAcc@5  43.60 ( 24.77)\n",
      "Epoch: [0][1550/2563]\tTime  2.431 ( 2.389)\tData  1.681 ( 1.618)\tLoss 3.7686e+00 (4.9725e+00)\tAcc@1  21.00 ( 10.24)\tAcc@5  44.80 ( 24.89)\n",
      "Epoch: [0][1560/2563]\tTime  1.557 ( 2.390)\tData  0.812 ( 1.618)\tLoss 3.9156e+00 (4.9655e+00)\tAcc@1  20.60 ( 10.31)\tAcc@5  45.80 ( 25.02)\n",
      "Epoch: [0][1570/2563]\tTime  1.620 ( 2.390)\tData  0.870 ( 1.619)\tLoss 3.8365e+00 (4.9586e+00)\tAcc@1  22.20 ( 10.38)\tAcc@5  46.00 ( 25.15)\n",
      "Epoch: [0][1580/2563]\tTime  1.136 ( 2.390)\tData  0.390 ( 1.619)\tLoss 4.0431e+00 (4.9517e+00)\tAcc@1  21.00 ( 10.44)\tAcc@5  42.80 ( 25.26)\n",
      "Epoch: [0][1590/2563]\tTime  1.177 ( 2.391)\tData  0.430 ( 1.620)\tLoss 3.9425e+00 (4.9453e+00)\tAcc@1  19.00 ( 10.51)\tAcc@5  43.60 ( 25.37)\n",
      "Epoch: [0][1600/2563]\tTime  1.191 ( 2.391)\tData  0.443 ( 1.620)\tLoss 3.6886e+00 (4.9384e+00)\tAcc@1  25.80 ( 10.58)\tAcc@5  49.20 ( 25.50)\n",
      "Epoch: [0][1610/2563]\tTime  0.754 ( 2.391)\tData  0.002 ( 1.620)\tLoss 3.8567e+00 (4.9316e+00)\tAcc@1  21.00 ( 10.65)\tAcc@5  44.60 ( 25.62)\n",
      "Epoch: [0][1620/2563]\tTime  0.750 ( 2.391)\tData  0.002 ( 1.620)\tLoss 3.8373e+00 (4.9252e+00)\tAcc@1  20.60 ( 10.71)\tAcc@5  43.20 ( 25.74)\n",
      "Epoch: [0][1630/2563]\tTime  0.753 ( 2.391)\tData  0.002 ( 1.620)\tLoss 3.8060e+00 (4.9183e+00)\tAcc@1  24.20 ( 10.78)\tAcc@5  43.20 ( 25.85)\n",
      "Epoch: [0][1640/2563]\tTime  0.750 ( 2.392)\tData  0.002 ( 1.620)\tLoss 3.7827e+00 (4.9115e+00)\tAcc@1  22.40 ( 10.85)\tAcc@5  49.20 ( 25.98)\n",
      "Epoch: [0][1650/2563]\tTime  0.753 ( 2.392)\tData  0.002 ( 1.621)\tLoss 3.6809e+00 (4.9046e+00)\tAcc@1  24.60 ( 10.92)\tAcc@5  45.20 ( 26.10)\n",
      "Epoch: [0][1660/2563]\tTime  0.747 ( 2.392)\tData  0.002 ( 1.621)\tLoss 3.6980e+00 (4.8981e+00)\tAcc@1  25.20 ( 10.99)\tAcc@5  49.80 ( 26.22)\n",
      "Epoch: [0][1670/2563]\tTime  0.836 ( 2.392)\tData  0.092 ( 1.621)\tLoss 3.6535e+00 (4.8911e+00)\tAcc@1  23.80 ( 11.06)\tAcc@5  50.20 ( 26.34)\n",
      "Epoch: [0][1680/2563]\tTime  0.837 ( 2.393)\tData  0.092 ( 1.621)\tLoss 3.5870e+00 (4.8842e+00)\tAcc@1  25.20 ( 11.14)\tAcc@5  49.00 ( 26.46)\n",
      "Epoch: [0][1690/2563]\tTime  0.921 ( 2.393)\tData  0.177 ( 1.622)\tLoss 3.8079e+00 (4.8776e+00)\tAcc@1  23.40 ( 11.20)\tAcc@5  46.00 ( 26.58)\n",
      "Epoch: [0][1700/2563]\tTime  0.855 ( 2.394)\tData  0.111 ( 1.622)\tLoss 3.8797e+00 (4.8712e+00)\tAcc@1  21.00 ( 11.27)\tAcc@5  45.00 ( 26.70)\n",
      "Epoch: [0][1710/2563]\tTime  0.991 ( 2.394)\tData  0.248 ( 1.623)\tLoss 3.7644e+00 (4.8646e+00)\tAcc@1  20.60 ( 11.34)\tAcc@5  45.80 ( 26.82)\n",
      "Epoch: [0][1720/2563]\tTime  0.970 ( 2.395)\tData  0.227 ( 1.623)\tLoss 3.8462e+00 (4.8580e+00)\tAcc@1  22.60 ( 11.40)\tAcc@5  44.60 ( 26.93)\n",
      "Epoch: [0][1730/2563]\tTime  0.862 ( 2.394)\tData  0.120 ( 1.623)\tLoss 3.6401e+00 (4.8514e+00)\tAcc@1  24.00 ( 11.47)\tAcc@5  49.00 ( 27.06)\n",
      "Epoch: [0][1740/2563]\tTime  0.919 ( 2.395)\tData  0.176 ( 1.623)\tLoss 3.7041e+00 (4.8450e+00)\tAcc@1  27.00 ( 11.54)\tAcc@5  48.80 ( 27.17)\n",
      "Epoch: [0][1750/2563]\tTime  0.838 ( 2.395)\tData  0.095 ( 1.623)\tLoss 3.5893e+00 (4.8386e+00)\tAcc@1  24.40 ( 11.60)\tAcc@5  50.60 ( 27.28)\n",
      "Epoch: [0][1760/2563]\tTime  0.839 ( 2.395)\tData  0.094 ( 1.624)\tLoss 3.6974e+00 (4.8320e+00)\tAcc@1  27.20 ( 11.67)\tAcc@5  49.00 ( 27.40)\n",
      "Epoch: [0][1770/2563]\tTime  1.304 ( 2.395)\tData  0.561 ( 1.624)\tLoss 3.6798e+00 (4.8258e+00)\tAcc@1  22.20 ( 11.73)\tAcc@5  48.20 ( 27.51)\n",
      "Epoch: [0][1780/2563]\tTime  1.031 ( 2.396)\tData  0.287 ( 1.625)\tLoss 3.7505e+00 (4.8198e+00)\tAcc@1  20.60 ( 11.79)\tAcc@5  46.20 ( 27.61)\n",
      "Epoch: [0][1790/2563]\tTime  1.478 ( 2.398)\tData  0.734 ( 1.627)\tLoss 3.6664e+00 (4.8138e+00)\tAcc@1  24.40 ( 11.85)\tAcc@5  50.40 ( 27.72)\n"
     ]
    },
    {
     "name": "stdout",
     "output_type": "stream",
     "text": [
      "Epoch: [0][1800/2563]\tTime  1.399 ( 2.398)\tData  0.655 ( 1.627)\tLoss 3.7290e+00 (4.8077e+00)\tAcc@1  25.00 ( 11.92)\tAcc@5  47.20 ( 27.83)\n",
      "Epoch: [0][1810/2563]\tTime  1.786 ( 2.398)\tData  1.043 ( 1.627)\tLoss 3.8253e+00 (4.8018e+00)\tAcc@1  23.20 ( 11.99)\tAcc@5  46.80 ( 27.95)\n",
      "Epoch: [0][1820/2563]\tTime  2.452 ( 2.399)\tData  1.710 ( 1.628)\tLoss 3.5911e+00 (4.7956e+00)\tAcc@1  27.40 ( 12.05)\tAcc@5  50.40 ( 28.06)\n",
      "Epoch: [0][1830/2563]\tTime  3.348 ( 2.400)\tData  2.547 ( 1.629)\tLoss 3.6054e+00 (4.7894e+00)\tAcc@1  26.00 ( 12.12)\tAcc@5  47.00 ( 28.17)\n",
      "Epoch: [0][1840/2563]\tTime  3.481 ( 2.400)\tData  2.684 ( 1.629)\tLoss 3.6819e+00 (4.7831e+00)\tAcc@1  24.40 ( 12.18)\tAcc@5  49.80 ( 28.28)\n",
      "Epoch: [0][1850/2563]\tTime  4.019 ( 2.401)\tData  3.209 ( 1.629)\tLoss 3.5274e+00 (4.7769e+00)\tAcc@1  24.20 ( 12.25)\tAcc@5  52.00 ( 28.39)\n",
      "Epoch: [0][1860/2563]\tTime  3.977 ( 2.401)\tData  3.171 ( 1.630)\tLoss 3.4878e+00 (4.7708e+00)\tAcc@1  27.60 ( 12.32)\tAcc@5  51.20 ( 28.49)\n",
      "Epoch: [0][1870/2563]\tTime  4.185 ( 2.402)\tData  3.400 ( 1.631)\tLoss 3.7001e+00 (4.7646e+00)\tAcc@1  25.00 ( 12.39)\tAcc@5  47.60 ( 28.61)\n",
      "Epoch: [0][1880/2563]\tTime  4.106 ( 2.403)\tData  3.313 ( 1.632)\tLoss 3.5386e+00 (4.7584e+00)\tAcc@1  25.80 ( 12.45)\tAcc@5  48.80 ( 28.72)\n",
      "Epoch: [0][1890/2563]\tTime  3.827 ( 2.404)\tData  3.028 ( 1.633)\tLoss 3.4886e+00 (4.7524e+00)\tAcc@1  25.40 ( 12.52)\tAcc@5  49.40 ( 28.82)\n",
      "Epoch: [0][1900/2563]\tTime  4.149 ( 2.405)\tData  3.347 ( 1.634)\tLoss 3.7068e+00 (4.7466e+00)\tAcc@1  22.60 ( 12.59)\tAcc@5  49.20 ( 28.93)\n",
      "Epoch: [0][1910/2563]\tTime  3.786 ( 2.404)\tData  2.986 ( 1.633)\tLoss 3.8251e+00 (4.7405e+00)\tAcc@1  25.80 ( 12.65)\tAcc@5  47.60 ( 29.03)\n",
      "Epoch: [0][1920/2563]\tTime  4.012 ( 2.404)\tData  3.224 ( 1.633)\tLoss 3.3703e+00 (4.7346e+00)\tAcc@1  28.20 ( 12.71)\tAcc@5  53.20 ( 29.14)\n",
      "Epoch: [0][1930/2563]\tTime  4.563 ( 2.405)\tData  3.783 ( 1.634)\tLoss 3.4834e+00 (4.7288e+00)\tAcc@1  27.40 ( 12.77)\tAcc@5  50.60 ( 29.24)\n",
      "Epoch: [0][1940/2563]\tTime  3.883 ( 2.405)\tData  3.082 ( 1.634)\tLoss 3.6016e+00 (4.7230e+00)\tAcc@1  26.20 ( 12.83)\tAcc@5  47.60 ( 29.34)\n",
      "Epoch: [0][1950/2563]\tTime  4.206 ( 2.405)\tData  3.406 ( 1.634)\tLoss 3.5919e+00 (4.7172e+00)\tAcc@1  24.40 ( 12.90)\tAcc@5  49.20 ( 29.44)\n",
      "Epoch: [0][1960/2563]\tTime  4.004 ( 2.405)\tData  3.201 ( 1.634)\tLoss 3.5788e+00 (4.7113e+00)\tAcc@1  26.80 ( 12.96)\tAcc@5  51.00 ( 29.55)\n",
      "Epoch: [0][1970/2563]\tTime  4.007 ( 2.406)\tData  3.220 ( 1.635)\tLoss 3.6038e+00 (4.7056e+00)\tAcc@1  28.60 ( 13.03)\tAcc@5  51.20 ( 29.65)\n",
      "Epoch: [0][1980/2563]\tTime  4.030 ( 2.406)\tData  3.243 ( 1.635)\tLoss 3.6339e+00 (4.6996e+00)\tAcc@1  25.80 ( 13.10)\tAcc@5  51.40 ( 29.76)\n",
      "Epoch: [0][1990/2563]\tTime  4.020 ( 2.406)\tData  3.213 ( 1.635)\tLoss 3.6947e+00 (4.6940e+00)\tAcc@1  22.80 ( 13.16)\tAcc@5  48.00 ( 29.87)\n",
      "Epoch: [0][2000/2563]\tTime  4.263 ( 2.407)\tData  3.465 ( 1.636)\tLoss 3.6424e+00 (4.6881e+00)\tAcc@1  26.00 ( 13.23)\tAcc@5  51.40 ( 29.97)\n",
      "Epoch: [0][2010/2563]\tTime  4.803 ( 2.407)\tData  4.001 ( 1.636)\tLoss 3.6312e+00 (4.6826e+00)\tAcc@1  22.20 ( 13.29)\tAcc@5  49.40 ( 30.07)\n",
      "Epoch: [0][2020/2563]\tTime  4.157 ( 2.407)\tData  3.373 ( 1.636)\tLoss 3.6856e+00 (4.6771e+00)\tAcc@1  23.80 ( 13.35)\tAcc@5  49.40 ( 30.17)\n",
      "Epoch: [0][2030/2563]\tTime  3.784 ( 2.408)\tData  3.008 ( 1.637)\tLoss 3.4983e+00 (4.6716e+00)\tAcc@1  26.20 ( 13.41)\tAcc@5  52.00 ( 30.27)\n",
      "Epoch: [0][2040/2563]\tTime  4.143 ( 2.408)\tData  3.354 ( 1.637)\tLoss 3.4150e+00 (4.6656e+00)\tAcc@1  27.00 ( 13.48)\tAcc@5  53.20 ( 30.38)\n",
      "Epoch: [0][2050/2563]\tTime  3.774 ( 2.408)\tData  2.970 ( 1.637)\tLoss 3.4616e+00 (4.6601e+00)\tAcc@1  25.00 ( 13.54)\tAcc@5  51.80 ( 30.48)\n",
      "Epoch: [0][2060/2563]\tTime  3.845 ( 2.408)\tData  3.047 ( 1.637)\tLoss 3.3957e+00 (4.6546e+00)\tAcc@1  26.80 ( 13.61)\tAcc@5  53.20 ( 30.58)\n",
      "Epoch: [0][2070/2563]\tTime  4.722 ( 2.409)\tData  3.941 ( 1.638)\tLoss 3.4386e+00 (4.6491e+00)\tAcc@1  26.60 ( 13.67)\tAcc@5  52.60 ( 30.68)\n",
      "Epoch: [0][2080/2563]\tTime  4.560 ( 2.410)\tData  3.774 ( 1.639)\tLoss 3.4907e+00 (4.6435e+00)\tAcc@1  26.00 ( 13.74)\tAcc@5  51.60 ( 30.78)\n",
      "Epoch: [0][2090/2563]\tTime  4.466 ( 2.410)\tData  3.672 ( 1.639)\tLoss 3.5379e+00 (4.6377e+00)\tAcc@1  26.80 ( 13.81)\tAcc@5  51.00 ( 30.89)\n",
      "Epoch: [0][2100/2563]\tTime  4.212 ( 2.410)\tData  3.420 ( 1.639)\tLoss 3.5977e+00 (4.6323e+00)\tAcc@1  24.80 ( 13.87)\tAcc@5  47.60 ( 30.98)\n",
      "Epoch: [0][2110/2563]\tTime  4.288 ( 2.410)\tData  3.487 ( 1.639)\tLoss 3.3226e+00 (4.6268e+00)\tAcc@1  26.60 ( 13.93)\tAcc@5  53.80 ( 31.08)\n",
      "Epoch: [0][2120/2563]\tTime  4.370 ( 2.411)\tData  3.586 ( 1.640)\tLoss 3.3332e+00 (4.6214e+00)\tAcc@1  31.60 ( 14.00)\tAcc@5  53.60 ( 31.18)\n",
      "Epoch: [0][2130/2563]\tTime  4.497 ( 2.411)\tData  3.702 ( 1.640)\tLoss 3.4981e+00 (4.6159e+00)\tAcc@1  26.80 ( 14.06)\tAcc@5  53.60 ( 31.28)\n",
      "Epoch: [0][2140/2563]\tTime  3.937 ( 2.411)\tData  3.128 ( 1.640)\tLoss 3.5989e+00 (4.6105e+00)\tAcc@1  28.00 ( 14.12)\tAcc@5  52.20 ( 31.38)\n",
      "Epoch: [0][2150/2563]\tTime  4.065 ( 2.411)\tData  3.262 ( 1.640)\tLoss 3.4272e+00 (4.6050e+00)\tAcc@1  26.80 ( 14.18)\tAcc@5  54.20 ( 31.48)\n",
      "Epoch: [0][2160/2563]\tTime  4.384 ( 2.411)\tData  3.591 ( 1.640)\tLoss 3.5228e+00 (4.5993e+00)\tAcc@1  26.60 ( 14.25)\tAcc@5  52.00 ( 31.58)\n",
      "Epoch: [0][2170/2563]\tTime  4.084 ( 2.411)\tData  3.291 ( 1.641)\tLoss 3.4818e+00 (4.5938e+00)\tAcc@1  27.20 ( 14.31)\tAcc@5  50.20 ( 31.69)\n",
      "Epoch: [0][2180/2563]\tTime  3.838 ( 2.412)\tData  3.031 ( 1.641)\tLoss 3.2861e+00 (4.5885e+00)\tAcc@1  25.80 ( 14.37)\tAcc@5  55.00 ( 31.78)\n",
      "Epoch: [0][2190/2563]\tTime  3.901 ( 2.411)\tData  3.102 ( 1.641)\tLoss 3.6917e+00 (4.5834e+00)\tAcc@1  22.80 ( 14.43)\tAcc@5  47.00 ( 31.87)\n",
      "Epoch: [0][2200/2563]\tTime  3.859 ( 2.411)\tData  3.073 ( 1.641)\tLoss 3.3592e+00 (4.5778e+00)\tAcc@1  29.00 ( 14.49)\tAcc@5  56.00 ( 31.98)\n",
      "Epoch: [0][2210/2563]\tTime  4.514 ( 2.412)\tData  3.712 ( 1.641)\tLoss 3.2854e+00 (4.5724e+00)\tAcc@1  29.20 ( 14.56)\tAcc@5  54.60 ( 32.08)\n",
      "Epoch: [0][2220/2563]\tTime  4.060 ( 2.412)\tData  3.263 ( 1.641)\tLoss 3.4985e+00 (4.5672e+00)\tAcc@1  25.60 ( 14.61)\tAcc@5  51.40 ( 32.17)\n",
      "Epoch: [0][2230/2563]\tTime  4.264 ( 2.412)\tData  3.480 ( 1.641)\tLoss 3.4075e+00 (4.5620e+00)\tAcc@1  28.60 ( 14.68)\tAcc@5  51.60 ( 32.26)\n",
      "Epoch: [0][2240/2563]\tTime  4.137 ( 2.412)\tData  3.330 ( 1.641)\tLoss 3.4565e+00 (4.5568e+00)\tAcc@1  25.80 ( 14.74)\tAcc@5  53.20 ( 32.35)\n",
      "Epoch: [0][2250/2563]\tTime  4.160 ( 2.412)\tData  3.354 ( 1.641)\tLoss 3.4889e+00 (4.5516e+00)\tAcc@1  25.20 ( 14.80)\tAcc@5  51.80 ( 32.45)\n",
      "Epoch: [0][2260/2563]\tTime  3.950 ( 2.412)\tData  3.172 ( 1.641)\tLoss 3.2774e+00 (4.5464e+00)\tAcc@1  29.60 ( 14.86)\tAcc@5  53.40 ( 32.54)\n",
      "Epoch: [0][2270/2563]\tTime  4.026 ( 2.412)\tData  3.236 ( 1.641)\tLoss 3.3273e+00 (4.5413e+00)\tAcc@1  30.60 ( 14.92)\tAcc@5  52.40 ( 32.64)\n",
      "Epoch: [0][2280/2563]\tTime  4.097 ( 2.412)\tData  3.293 ( 1.641)\tLoss 3.2717e+00 (4.5362e+00)\tAcc@1  30.60 ( 14.98)\tAcc@5  57.60 ( 32.73)\n",
      "Epoch: [0][2290/2563]\tTime  4.031 ( 2.412)\tData  3.242 ( 1.641)\tLoss 3.2531e+00 (4.5311e+00)\tAcc@1  29.60 ( 15.04)\tAcc@5  54.40 ( 32.82)\n",
      "Epoch: [0][2300/2563]\tTime  3.923 ( 2.412)\tData  3.137 ( 1.641)\tLoss 3.1601e+00 (4.5259e+00)\tAcc@1  30.20 ( 15.10)\tAcc@5  56.80 ( 32.92)\n",
      "Epoch: [0][2310/2563]\tTime  4.196 ( 2.412)\tData  3.419 ( 1.641)\tLoss 3.2282e+00 (4.5206e+00)\tAcc@1  30.00 ( 15.17)\tAcc@5  56.80 ( 33.01)\n",
      "Epoch: [0][2320/2563]\tTime  4.237 ( 2.413)\tData  3.451 ( 1.642)\tLoss 3.3658e+00 (4.5155e+00)\tAcc@1  28.80 ( 15.22)\tAcc@5  56.80 ( 33.11)\n",
      "Epoch: [0][2330/2563]\tTime  4.118 ( 2.412)\tData  3.339 ( 1.642)\tLoss 3.2867e+00 (4.5104e+00)\tAcc@1  29.00 ( 15.28)\tAcc@5  54.40 ( 33.20)\n",
      "Epoch: [0][2340/2563]\tTime  4.632 ( 2.413)\tData  3.853 ( 1.642)\tLoss 3.2554e+00 (4.5053e+00)\tAcc@1  31.40 ( 15.35)\tAcc@5  57.40 ( 33.29)\n",
      "Epoch: [0][2350/2563]\tTime  4.011 ( 2.413)\tData  3.224 ( 1.643)\tLoss 3.3962e+00 (4.5003e+00)\tAcc@1  28.80 ( 15.40)\tAcc@5  55.40 ( 33.38)\n",
      "Epoch: [0][2360/2563]\tTime  4.020 ( 2.413)\tData  3.218 ( 1.643)\tLoss 3.5474e+00 (4.4954e+00)\tAcc@1  26.40 ( 15.46)\tAcc@5  52.80 ( 33.47)\n",
      "Epoch: [0][2370/2563]\tTime  4.138 ( 2.413)\tData  3.341 ( 1.642)\tLoss 3.4029e+00 (4.4905e+00)\tAcc@1  29.00 ( 15.52)\tAcc@5  53.40 ( 33.56)\n",
      "Epoch: [0][2380/2563]\tTime  3.966 ( 2.413)\tData  3.159 ( 1.642)\tLoss 3.5520e+00 (4.4856e+00)\tAcc@1  26.40 ( 15.58)\tAcc@5  52.60 ( 33.65)\n",
      "Epoch: [0][2390/2563]\tTime  4.083 ( 2.413)\tData  3.280 ( 1.642)\tLoss 3.3595e+00 (4.4807e+00)\tAcc@1  29.00 ( 15.64)\tAcc@5  54.00 ( 33.74)\n"
     ]
    },
    {
     "name": "stdout",
     "output_type": "stream",
     "text": [
      "Epoch: [0][2400/2563]\tTime  4.264 ( 2.413)\tData  3.486 ( 1.642)\tLoss 3.3962e+00 (4.4756e+00)\tAcc@1  29.40 ( 15.70)\tAcc@5  54.80 ( 33.83)\n",
      "Epoch: [0][2410/2563]\tTime  4.090 ( 2.414)\tData  3.312 ( 1.643)\tLoss 3.4958e+00 (4.4708e+00)\tAcc@1  25.60 ( 15.76)\tAcc@5  50.60 ( 33.92)\n",
      "Epoch: [0][2420/2563]\tTime  4.206 ( 2.414)\tData  3.422 ( 1.643)\tLoss 3.3548e+00 (4.4663e+00)\tAcc@1  28.60 ( 15.81)\tAcc@5  54.00 ( 34.00)\n",
      "Epoch: [0][2430/2563]\tTime  4.144 ( 2.414)\tData  3.348 ( 1.644)\tLoss 3.3087e+00 (4.4613e+00)\tAcc@1  28.80 ( 15.87)\tAcc@5  54.20 ( 34.09)\n",
      "Epoch: [0][2440/2563]\tTime  4.180 ( 2.415)\tData  3.379 ( 1.644)\tLoss 3.0431e+00 (4.4565e+00)\tAcc@1  31.20 ( 15.92)\tAcc@5  60.40 ( 34.18)\n",
      "Epoch: [0][2450/2563]\tTime  4.798 ( 2.415)\tData  3.998 ( 1.645)\tLoss 3.3811e+00 (4.4517e+00)\tAcc@1  28.80 ( 15.98)\tAcc@5  54.00 ( 34.27)\n",
      "Epoch: [0][2460/2563]\tTime  4.027 ( 2.415)\tData  3.233 ( 1.645)\tLoss 3.2669e+00 (4.4470e+00)\tAcc@1  29.40 ( 16.04)\tAcc@5  54.60 ( 34.35)\n",
      "Epoch: [0][2470/2563]\tTime  4.147 ( 2.415)\tData  3.355 ( 1.645)\tLoss 3.1666e+00 (4.4422e+00)\tAcc@1  29.40 ( 16.10)\tAcc@5  57.20 ( 34.44)\n",
      "Epoch: [0][2480/2563]\tTime  4.281 ( 2.415)\tData  3.486 ( 1.645)\tLoss 3.3696e+00 (4.4375e+00)\tAcc@1  26.60 ( 16.15)\tAcc@5  54.60 ( 34.53)\n",
      "Epoch: [0][2490/2563]\tTime  3.800 ( 2.415)\tData  2.993 ( 1.644)\tLoss 3.2594e+00 (4.4330e+00)\tAcc@1  32.80 ( 16.21)\tAcc@5  57.80 ( 34.61)\n",
      "Epoch: [0][2500/2563]\tTime  4.325 ( 2.415)\tData  3.542 ( 1.644)\tLoss 3.2195e+00 (4.4283e+00)\tAcc@1  31.80 ( 16.27)\tAcc@5  55.00 ( 34.70)\n",
      "Epoch: [0][2510/2563]\tTime  4.217 ( 2.415)\tData  3.419 ( 1.644)\tLoss 3.1639e+00 (4.4234e+00)\tAcc@1  30.80 ( 16.32)\tAcc@5  56.80 ( 34.79)\n",
      "Epoch: [0][2520/2563]\tTime  3.954 ( 2.415)\tData  3.173 ( 1.644)\tLoss 3.2175e+00 (4.4189e+00)\tAcc@1  29.40 ( 16.38)\tAcc@5  58.40 ( 34.88)\n",
      "Epoch: [0][2530/2563]\tTime  3.994 ( 2.415)\tData  3.213 ( 1.645)\tLoss 3.0920e+00 (4.4143e+00)\tAcc@1  31.60 ( 16.43)\tAcc@5  57.80 ( 34.96)\n",
      "Epoch: [0][2540/2563]\tTime  3.951 ( 2.415)\tData  3.153 ( 1.644)\tLoss 3.1448e+00 (4.4098e+00)\tAcc@1  34.60 ( 16.49)\tAcc@5  56.80 ( 35.05)\n",
      "Epoch: [0][2550/2563]\tTime  4.118 ( 2.415)\tData  3.311 ( 1.644)\tLoss 3.0814e+00 (4.4051e+00)\tAcc@1  34.00 ( 16.54)\tAcc@5  60.00 ( 35.13)\n",
      "Epoch: [0][2560/2563]\tTime  4.302 ( 2.415)\tData  3.516 ( 1.645)\tLoss 3.3769e+00 (4.4004e+00)\tAcc@1  28.40 ( 16.60)\tAcc@5  52.80 ( 35.22)\n",
      "Test: [0/3]\tTime 10.079 (10.079)\tLoss 3.8624e+00 (3.8624e+00)\tAcc@1  20.80 ( 20.80)\tAcc@5  44.80 ( 44.80)\n",
      " * Acc@1 21.279 Acc@5 44.356\n",
      "lr: [0.0]\n",
      "Epoch: [1][   0/2563]\tTime  6.189 ( 6.189)\tData  5.407 ( 5.407)\tLoss 3.1727e+00 (3.1727e+00)\tAcc@1  31.00 ( 31.00)\tAcc@5  58.20 ( 58.20)\n",
      "Epoch: [1][  10/2563]\tTime  3.989 ( 2.767)\tData  3.197 ( 1.997)\tLoss 3.0899e+00 (3.1318e+00)\tAcc@1  33.00 ( 32.05)\tAcc@5  59.00 ( 58.98)\n",
      "Epoch: [1][  20/2563]\tTime  4.042 ( 2.597)\tData  3.262 ( 1.829)\tLoss 3.1226e+00 (3.1410e+00)\tAcc@1  35.20 ( 31.92)\tAcc@5  58.80 ( 58.80)\n",
      "Epoch: [1][  30/2563]\tTime  4.303 ( 2.558)\tData  3.524 ( 1.791)\tLoss 3.1426e+00 (3.1690e+00)\tAcc@1  33.20 ( 31.54)\tAcc@5  58.20 ( 58.12)\n",
      "Epoch: [1][  40/2563]\tTime  3.943 ( 2.517)\tData  3.134 ( 1.748)\tLoss 3.1647e+00 (3.1635e+00)\tAcc@1  29.60 ( 31.55)\tAcc@5  56.20 ( 57.99)\n",
      "Epoch: [1][  50/2563]\tTime  4.039 ( 2.507)\tData  3.261 ( 1.739)\tLoss 3.1146e+00 (3.1640e+00)\tAcc@1  33.60 ( 31.67)\tAcc@5  58.60 ( 57.93)\n",
      "Epoch: [1][  60/2563]\tTime  3.999 ( 2.482)\tData  3.221 ( 1.715)\tLoss 3.1745e+00 (3.1616e+00)\tAcc@1  31.20 ( 31.69)\tAcc@5  57.40 ( 57.98)\n",
      "Epoch: [1][  70/2563]\tTime  3.843 ( 2.460)\tData  3.033 ( 1.693)\tLoss 3.2719e+00 (3.1596e+00)\tAcc@1  29.40 ( 31.69)\tAcc@5  56.20 ( 57.98)\n",
      "Epoch: [1][  80/2563]\tTime  3.872 ( 2.444)\tData  3.097 ( 1.677)\tLoss 2.9174e+00 (3.1615e+00)\tAcc@1  35.00 ( 31.70)\tAcc@5  62.60 ( 57.94)\n",
      "Epoch: [1][  90/2563]\tTime  3.588 ( 2.431)\tData  2.778 ( 1.664)\tLoss 3.0690e+00 (3.1628e+00)\tAcc@1  31.60 ( 31.69)\tAcc@5  59.00 ( 57.96)\n",
      "Epoch: [1][ 100/2563]\tTime  3.297 ( 2.416)\tData  2.497 ( 1.649)\tLoss 3.2116e+00 (3.1617e+00)\tAcc@1  29.80 ( 31.65)\tAcc@5  55.40 ( 57.88)\n",
      "Epoch: [1][ 110/2563]\tTime  1.654 ( 2.400)\tData  0.911 ( 1.633)\tLoss 3.1661e+00 (3.1610e+00)\tAcc@1  34.20 ( 31.63)\tAcc@5  56.20 ( 57.85)\n",
      "Epoch: [1][ 120/2563]\tTime  1.308 ( 2.394)\tData  0.567 ( 1.627)\tLoss 3.2287e+00 (3.1625e+00)\tAcc@1  30.60 ( 31.58)\tAcc@5  56.00 ( 57.87)\n",
      "Epoch: [1][ 130/2563]\tTime  0.956 ( 2.387)\tData  0.213 ( 1.620)\tLoss 3.1415e+00 (3.1632e+00)\tAcc@1  32.20 ( 31.63)\tAcc@5  58.80 ( 57.85)\n",
      "Epoch: [1][ 140/2563]\tTime  0.840 ( 2.381)\tData  0.095 ( 1.615)\tLoss 3.1250e+00 (3.1621e+00)\tAcc@1  33.40 ( 31.64)\tAcc@5  60.00 ( 57.90)\n",
      "Epoch: [1][ 150/2563]\tTime  1.427 ( 2.379)\tData  0.683 ( 1.612)\tLoss 3.2195e+00 (3.1622e+00)\tAcc@1  31.60 ( 31.66)\tAcc@5  56.40 ( 57.91)\n",
      "Epoch: [1][ 160/2563]\tTime  1.933 ( 2.378)\tData  1.188 ( 1.611)\tLoss 3.0714e+00 (3.1639e+00)\tAcc@1  32.40 ( 31.57)\tAcc@5  60.00 ( 57.86)\n",
      "Epoch: [1][ 170/2563]\tTime  0.860 ( 2.381)\tData  0.116 ( 1.614)\tLoss 3.1869e+00 (3.1648e+00)\tAcc@1  29.80 ( 31.54)\tAcc@5  58.20 ( 57.82)\n",
      "Epoch: [1][ 180/2563]\tTime  1.603 ( 2.384)\tData  0.859 ( 1.617)\tLoss 3.1625e+00 (3.1618e+00)\tAcc@1  31.00 ( 31.60)\tAcc@5  55.80 ( 57.87)\n",
      "Epoch: [1][ 190/2563]\tTime  2.290 ( 2.388)\tData  1.544 ( 1.621)\tLoss 3.3336e+00 (3.1621e+00)\tAcc@1  28.20 ( 31.55)\tAcc@5  54.40 ( 57.86)\n",
      "Epoch: [1][ 200/2563]\tTime  2.523 ( 2.390)\tData  1.777 ( 1.624)\tLoss 3.3243e+00 (3.1648e+00)\tAcc@1  26.80 ( 31.54)\tAcc@5  54.20 ( 57.82)\n",
      "Epoch: [1][ 210/2563]\tTime  2.769 ( 2.390)\tData  1.989 ( 1.624)\tLoss 3.2720e+00 (3.1649e+00)\tAcc@1  32.20 ( 31.57)\tAcc@5  57.80 ( 57.81)\n",
      "Epoch: [1][ 220/2563]\tTime  2.506 ( 2.390)\tData  1.761 ( 1.625)\tLoss 3.1197e+00 (3.1667e+00)\tAcc@1  35.00 ( 31.56)\tAcc@5  58.00 ( 57.77)\n",
      "Epoch: [1][ 230/2563]\tTime  3.045 ( 2.390)\tData  2.243 ( 1.625)\tLoss 3.3468e+00 (3.1686e+00)\tAcc@1  29.60 ( 31.55)\tAcc@5  56.20 ( 57.74)\n",
      "Epoch: [1][ 240/2563]\tTime  2.759 ( 2.390)\tData  1.971 ( 1.624)\tLoss 3.1363e+00 (3.1681e+00)\tAcc@1  32.40 ( 31.56)\tAcc@5  59.00 ( 57.73)\n",
      "Epoch: [1][ 250/2563]\tTime  2.346 ( 2.388)\tData  1.601 ( 1.623)\tLoss 3.0746e+00 (3.1678e+00)\tAcc@1  31.20 ( 31.55)\tAcc@5  59.00 ( 57.69)\n",
      "Epoch: [1][ 260/2563]\tTime  3.463 ( 2.392)\tData  2.651 ( 1.627)\tLoss 3.1124e+00 (3.1675e+00)\tAcc@1  33.00 ( 31.57)\tAcc@5  58.00 ( 57.68)\n",
      "Epoch: [1][ 270/2563]\tTime  3.761 ( 2.393)\tData  2.961 ( 1.627)\tLoss 3.1693e+00 (3.1687e+00)\tAcc@1  30.20 ( 31.55)\tAcc@5  57.80 ( 57.68)\n",
      "Epoch: [1][ 280/2563]\tTime  4.352 ( 2.396)\tData  3.565 ( 1.630)\tLoss 3.2061e+00 (3.1708e+00)\tAcc@1  30.20 ( 31.48)\tAcc@5  59.00 ( 57.63)\n",
      "Epoch: [1][ 290/2563]\tTime  3.884 ( 2.394)\tData  3.097 ( 1.629)\tLoss 3.1760e+00 (3.1707e+00)\tAcc@1  31.00 ( 31.47)\tAcc@5  55.80 ( 57.63)\n",
      "Epoch: [1][ 300/2563]\tTime  3.806 ( 2.396)\tData  3.017 ( 1.630)\tLoss 3.3062e+00 (3.1724e+00)\tAcc@1  25.80 ( 31.42)\tAcc@5  54.80 ( 57.60)\n",
      "Epoch: [1][ 310/2563]\tTime  4.042 ( 2.397)\tData  3.252 ( 1.631)\tLoss 3.2578e+00 (3.1724e+00)\tAcc@1  31.60 ( 31.42)\tAcc@5  56.60 ( 57.59)\n",
      "Epoch: [1][ 320/2563]\tTime  4.192 ( 2.398)\tData  3.409 ( 1.632)\tLoss 3.2151e+00 (3.1739e+00)\tAcc@1  30.40 ( 31.38)\tAcc@5  57.80 ( 57.59)\n",
      "Epoch: [1][ 330/2563]\tTime  3.862 ( 2.399)\tData  3.061 ( 1.632)\tLoss 3.1222e+00 (3.1739e+00)\tAcc@1  34.00 ( 31.40)\tAcc@5  59.00 ( 57.60)\n",
      "Epoch: [1][ 340/2563]\tTime  3.903 ( 2.398)\tData  3.103 ( 1.631)\tLoss 3.1626e+00 (3.1741e+00)\tAcc@1  28.00 ( 31.40)\tAcc@5  56.80 ( 57.60)\n",
      "Epoch: [1][ 350/2563]\tTime  4.304 ( 2.398)\tData  3.514 ( 1.631)\tLoss 3.1167e+00 (3.1730e+00)\tAcc@1  32.80 ( 31.42)\tAcc@5  57.00 ( 57.61)\n",
      "Epoch: [1][ 360/2563]\tTime  3.811 ( 2.398)\tData  3.030 ( 1.631)\tLoss 3.2117e+00 (3.1741e+00)\tAcc@1  30.40 ( 31.43)\tAcc@5  56.20 ( 57.58)\n",
      "Epoch: [1][ 370/2563]\tTime  4.054 ( 2.398)\tData  3.270 ( 1.631)\tLoss 3.2638e+00 (3.1749e+00)\tAcc@1  31.00 ( 31.41)\tAcc@5  56.40 ( 57.59)\n",
      "Epoch: [1][ 380/2563]\tTime  4.114 ( 2.397)\tData  3.328 ( 1.631)\tLoss 3.0898e+00 (3.1753e+00)\tAcc@1  35.40 ( 31.39)\tAcc@5  59.60 ( 57.58)\n",
      "Epoch: [1][ 390/2563]\tTime  4.075 ( 2.397)\tData  3.278 ( 1.630)\tLoss 3.3539e+00 (3.1754e+00)\tAcc@1  29.40 ( 31.39)\tAcc@5  50.80 ( 57.58)\n",
      "Epoch: [1][ 400/2563]\tTime  4.175 ( 2.397)\tData  3.385 ( 1.630)\tLoss 3.1396e+00 (3.1746e+00)\tAcc@1  32.60 ( 31.41)\tAcc@5  59.00 ( 57.61)\n",
      "Epoch: [1][ 410/2563]\tTime  4.350 ( 2.398)\tData  3.565 ( 1.631)\tLoss 3.3782e+00 (3.1765e+00)\tAcc@1  29.80 ( 31.37)\tAcc@5  53.20 ( 57.57)\n"
     ]
    },
    {
     "name": "stdout",
     "output_type": "stream",
     "text": [
      "Epoch: [1][ 420/2563]\tTime  4.214 ( 2.400)\tData  3.432 ( 1.633)\tLoss 3.1413e+00 (3.1780e+00)\tAcc@1  30.60 ( 31.35)\tAcc@5  57.80 ( 57.55)\n",
      "Epoch: [1][ 430/2563]\tTime  4.281 ( 2.402)\tData  3.475 ( 1.635)\tLoss 3.1071e+00 (3.1787e+00)\tAcc@1  31.80 ( 31.34)\tAcc@5  59.60 ( 57.54)\n",
      "Epoch: [1][ 440/2563]\tTime  3.953 ( 2.404)\tData  3.172 ( 1.637)\tLoss 3.0488e+00 (3.1781e+00)\tAcc@1  34.40 ( 31.36)\tAcc@5  60.80 ( 57.56)\n",
      "Epoch: [1][ 450/2563]\tTime  4.559 ( 2.408)\tData  3.770 ( 1.641)\tLoss 3.2058e+00 (3.1786e+00)\tAcc@1  31.00 ( 31.35)\tAcc@5  59.20 ( 57.55)\n",
      "Epoch: [1][ 460/2563]\tTime  4.884 ( 2.411)\tData  4.090 ( 1.644)\tLoss 3.0773e+00 (3.1786e+00)\tAcc@1  31.80 ( 31.34)\tAcc@5  58.80 ( 57.55)\n",
      "Epoch: [1][ 470/2563]\tTime  4.174 ( 2.412)\tData  3.379 ( 1.645)\tLoss 3.1393e+00 (3.1789e+00)\tAcc@1  33.00 ( 31.35)\tAcc@5  59.00 ( 57.54)\n",
      "Epoch: [1][ 480/2563]\tTime  4.335 ( 2.414)\tData  3.558 ( 1.647)\tLoss 3.1642e+00 (3.1784e+00)\tAcc@1  31.20 ( 31.37)\tAcc@5  60.00 ( 57.56)\n",
      "Epoch: [1][ 490/2563]\tTime  4.403 ( 2.415)\tData  3.612 ( 1.647)\tLoss 3.1015e+00 (3.1795e+00)\tAcc@1  34.60 ( 31.36)\tAcc@5  59.20 ( 57.54)\n",
      "Epoch: [1][ 500/2563]\tTime  4.001 ( 2.415)\tData  3.212 ( 1.647)\tLoss 3.2097e+00 (3.1808e+00)\tAcc@1  28.60 ( 31.34)\tAcc@5  58.00 ( 57.51)\n",
      "Epoch: [1][ 510/2563]\tTime  4.205 ( 2.416)\tData  3.414 ( 1.648)\tLoss 3.3394e+00 (3.1800e+00)\tAcc@1  31.80 ( 31.36)\tAcc@5  54.60 ( 57.52)\n",
      "Epoch: [1][ 520/2563]\tTime  4.517 ( 2.416)\tData  3.720 ( 1.649)\tLoss 3.1404e+00 (3.1792e+00)\tAcc@1  32.00 ( 31.37)\tAcc@5  57.80 ( 57.53)\n",
      "Epoch: [1][ 530/2563]\tTime  4.103 ( 2.417)\tData  3.310 ( 1.649)\tLoss 3.1366e+00 (3.1796e+00)\tAcc@1  33.00 ( 31.35)\tAcc@5  57.80 ( 57.53)\n",
      "Epoch: [1][ 540/2563]\tTime  4.030 ( 2.417)\tData  3.235 ( 1.650)\tLoss 3.2275e+00 (3.1802e+00)\tAcc@1  30.60 ( 31.34)\tAcc@5  56.60 ( 57.52)\n",
      "Epoch: [1][ 550/2563]\tTime  3.897 ( 2.418)\tData  3.118 ( 1.651)\tLoss 2.9931e+00 (3.1792e+00)\tAcc@1  33.60 ( 31.34)\tAcc@5  60.80 ( 57.54)\n",
      "Epoch: [1][ 560/2563]\tTime  4.497 ( 2.419)\tData  3.707 ( 1.652)\tLoss 3.1502e+00 (3.1791e+00)\tAcc@1  32.20 ( 31.33)\tAcc@5  57.80 ( 57.53)\n",
      "Epoch: [1][ 570/2563]\tTime  4.043 ( 2.420)\tData  3.261 ( 1.652)\tLoss 3.0637e+00 (3.1787e+00)\tAcc@1  31.40 ( 31.33)\tAcc@5  59.00 ( 57.55)\n",
      "Epoch: [1][ 580/2563]\tTime  4.035 ( 2.420)\tData  3.250 ( 1.653)\tLoss 3.2599e+00 (3.1785e+00)\tAcc@1  27.60 ( 31.32)\tAcc@5  56.00 ( 57.55)\n",
      "Epoch: [1][ 590/2563]\tTime  4.021 ( 2.420)\tData  3.234 ( 1.653)\tLoss 3.2133e+00 (3.1789e+00)\tAcc@1  34.80 ( 31.34)\tAcc@5  57.80 ( 57.55)\n",
      "Epoch: [1][ 600/2563]\tTime  4.419 ( 2.422)\tData  3.626 ( 1.654)\tLoss 3.2819e+00 (3.1788e+00)\tAcc@1  31.80 ( 31.34)\tAcc@5  54.00 ( 57.55)\n",
      "Epoch: [1][ 610/2563]\tTime  3.841 ( 2.421)\tData  3.041 ( 1.654)\tLoss 3.2599e+00 (3.1795e+00)\tAcc@1  30.80 ( 31.34)\tAcc@5  56.80 ( 57.53)\n",
      "Epoch: [1][ 620/2563]\tTime  4.191 ( 2.422)\tData  3.385 ( 1.655)\tLoss 3.2212e+00 (3.1787e+00)\tAcc@1  31.00 ( 31.35)\tAcc@5  54.40 ( 57.54)\n",
      "Epoch: [1][ 630/2563]\tTime  4.090 ( 2.423)\tData  3.295 ( 1.655)\tLoss 3.0957e+00 (3.1789e+00)\tAcc@1  33.80 ( 31.36)\tAcc@5  59.60 ( 57.53)\n",
      "Epoch: [1][ 640/2563]\tTime  4.074 ( 2.423)\tData  3.287 ( 1.655)\tLoss 3.2087e+00 (3.1798e+00)\tAcc@1  29.60 ( 31.34)\tAcc@5  55.80 ( 57.52)\n",
      "Epoch: [1][ 650/2563]\tTime  4.094 ( 2.423)\tData  3.294 ( 1.656)\tLoss 3.2247e+00 (3.1804e+00)\tAcc@1  29.00 ( 31.33)\tAcc@5  59.60 ( 57.51)\n",
      "Epoch: [1][ 660/2563]\tTime  4.149 ( 2.424)\tData  3.367 ( 1.656)\tLoss 3.2031e+00 (3.1806e+00)\tAcc@1  30.40 ( 31.33)\tAcc@5  59.00 ( 57.52)\n",
      "Epoch: [1][ 670/2563]\tTime  4.456 ( 2.424)\tData  3.683 ( 1.657)\tLoss 3.1302e+00 (3.1805e+00)\tAcc@1  32.60 ( 31.33)\tAcc@5  59.20 ( 57.52)\n",
      "Epoch: [1][ 680/2563]\tTime  4.184 ( 2.425)\tData  3.408 ( 1.657)\tLoss 3.2970e+00 (3.1813e+00)\tAcc@1  26.40 ( 31.32)\tAcc@5  55.00 ( 57.50)\n",
      "Epoch: [1][ 690/2563]\tTime  4.380 ( 2.426)\tData  3.602 ( 1.658)\tLoss 3.0635e+00 (3.1811e+00)\tAcc@1  34.20 ( 31.33)\tAcc@5  58.20 ( 57.50)\n",
      "Epoch: [1][ 700/2563]\tTime  4.290 ( 2.426)\tData  3.513 ( 1.659)\tLoss 3.2194e+00 (3.1807e+00)\tAcc@1  30.40 ( 31.34)\tAcc@5  56.80 ( 57.49)\n",
      "Epoch: [1][ 710/2563]\tTime  4.522 ( 2.429)\tData  3.744 ( 1.662)\tLoss 3.1438e+00 (3.1805e+00)\tAcc@1  34.80 ( 31.35)\tAcc@5  57.40 ( 57.50)\n",
      "Epoch: [1][ 720/2563]\tTime  4.231 ( 2.430)\tData  3.444 ( 1.663)\tLoss 3.3882e+00 (3.1803e+00)\tAcc@1  31.80 ( 31.36)\tAcc@5  53.80 ( 57.51)\n",
      "Epoch: [1][ 730/2563]\tTime  4.016 ( 2.430)\tData  3.212 ( 1.663)\tLoss 3.0702e+00 (3.1792e+00)\tAcc@1  32.80 ( 31.37)\tAcc@5  59.80 ( 57.53)\n",
      "Epoch: [1][ 740/2563]\tTime  4.581 ( 2.432)\tData  3.786 ( 1.664)\tLoss 3.2162e+00 (3.1794e+00)\tAcc@1  31.80 ( 31.37)\tAcc@5  54.60 ( 57.51)\n",
      "Epoch: [1][ 750/2563]\tTime  4.231 ( 2.433)\tData  3.428 ( 1.666)\tLoss 2.9553e+00 (3.1790e+00)\tAcc@1  34.80 ( 31.37)\tAcc@5  59.40 ( 57.51)\n",
      "Epoch: [1][ 760/2563]\tTime  3.898 ( 2.434)\tData  3.123 ( 1.666)\tLoss 3.3363e+00 (3.1789e+00)\tAcc@1  27.20 ( 31.37)\tAcc@5  52.80 ( 57.51)\n",
      "Epoch: [1][ 770/2563]\tTime  4.910 ( 2.435)\tData  4.111 ( 1.668)\tLoss 3.1895e+00 (3.1798e+00)\tAcc@1  29.40 ( 31.36)\tAcc@5  59.20 ( 57.49)\n",
      "Epoch: [1][ 780/2563]\tTime  4.379 ( 2.435)\tData  3.584 ( 1.668)\tLoss 3.1826e+00 (3.1797e+00)\tAcc@1  33.60 ( 31.37)\tAcc@5  56.60 ( 57.48)\n",
      "Epoch: [1][ 790/2563]\tTime  3.986 ( 2.434)\tData  3.182 ( 1.667)\tLoss 3.1966e+00 (3.1802e+00)\tAcc@1  30.40 ( 31.36)\tAcc@5  58.40 ( 57.48)\n",
      "Epoch: [1][ 800/2563]\tTime  4.036 ( 2.434)\tData  3.244 ( 1.666)\tLoss 3.1040e+00 (3.1803e+00)\tAcc@1  30.40 ( 31.36)\tAcc@5  58.80 ( 57.47)\n",
      "Epoch: [1][ 810/2563]\tTime  4.029 ( 2.434)\tData  3.224 ( 1.667)\tLoss 3.2178e+00 (3.1807e+00)\tAcc@1  30.00 ( 31.35)\tAcc@5  55.60 ( 57.46)\n",
      "Epoch: [1][ 820/2563]\tTime  4.143 ( 2.434)\tData  3.369 ( 1.666)\tLoss 3.2365e+00 (3.1808e+00)\tAcc@1  29.80 ( 31.36)\tAcc@5  57.40 ( 57.46)\n",
      "Epoch: [1][ 830/2563]\tTime  4.117 ( 2.434)\tData  3.341 ( 1.666)\tLoss 3.2017e+00 (3.1810e+00)\tAcc@1  31.20 ( 31.35)\tAcc@5  58.00 ( 57.46)\n",
      "Epoch: [1][ 840/2563]\tTime  3.915 ( 2.435)\tData  3.125 ( 1.667)\tLoss 3.2664e+00 (3.1809e+00)\tAcc@1  30.00 ( 31.35)\tAcc@5  56.40 ( 57.47)\n",
      "Epoch: [1][ 850/2563]\tTime  3.851 ( 2.435)\tData  3.060 ( 1.667)\tLoss 3.0868e+00 (3.1807e+00)\tAcc@1  31.00 ( 31.35)\tAcc@5  59.60 ( 57.47)\n",
      "Epoch: [1][ 860/2563]\tTime  4.167 ( 2.435)\tData  3.366 ( 1.668)\tLoss 3.1947e+00 (3.1812e+00)\tAcc@1  30.40 ( 31.34)\tAcc@5  58.20 ( 57.46)\n",
      "Epoch: [1][ 870/2563]\tTime  4.412 ( 2.436)\tData  3.636 ( 1.668)\tLoss 3.1548e+00 (3.1805e+00)\tAcc@1  29.40 ( 31.36)\tAcc@5  60.00 ( 57.48)\n",
      "Epoch: [1][ 880/2563]\tTime  4.258 ( 2.437)\tData  3.478 ( 1.669)\tLoss 3.2571e+00 (3.1800e+00)\tAcc@1  29.40 ( 31.37)\tAcc@5  56.20 ( 57.49)\n",
      "Epoch: [1][ 890/2563]\tTime  4.072 ( 2.438)\tData  3.275 ( 1.670)\tLoss 3.1375e+00 (3.1803e+00)\tAcc@1  33.20 ( 31.36)\tAcc@5  59.40 ( 57.48)\n",
      "Epoch: [1][ 900/2563]\tTime  4.339 ( 2.438)\tData  3.558 ( 1.670)\tLoss 3.1854e+00 (3.1802e+00)\tAcc@1  31.20 ( 31.35)\tAcc@5  55.60 ( 57.48)\n",
      "Epoch: [1][ 910/2563]\tTime  3.807 ( 2.437)\tData  3.024 ( 1.669)\tLoss 3.1637e+00 (3.1796e+00)\tAcc@1  32.40 ( 31.36)\tAcc@5  57.00 ( 57.48)\n",
      "Epoch: [1][ 920/2563]\tTime  4.300 ( 2.437)\tData  3.515 ( 1.669)\tLoss 3.1563e+00 (3.1796e+00)\tAcc@1  30.20 ( 31.36)\tAcc@5  56.00 ( 57.48)\n",
      "Epoch: [1][ 930/2563]\tTime  4.056 ( 2.436)\tData  3.257 ( 1.668)\tLoss 3.2587e+00 (3.1799e+00)\tAcc@1  29.40 ( 31.36)\tAcc@5  56.40 ( 57.47)\n",
      "Epoch: [1][ 940/2563]\tTime  3.783 ( 2.436)\tData  2.992 ( 1.667)\tLoss 3.2124e+00 (3.1801e+00)\tAcc@1  33.80 ( 31.36)\tAcc@5  58.60 ( 57.47)\n",
      "Epoch: [1][ 950/2563]\tTime  3.944 ( 2.436)\tData  3.159 ( 1.668)\tLoss 3.2785e+00 (3.1811e+00)\tAcc@1  28.40 ( 31.34)\tAcc@5  53.40 ( 57.45)\n",
      "Epoch: [1][ 960/2563]\tTime  4.287 ( 2.436)\tData  3.487 ( 1.668)\tLoss 3.1983e+00 (3.1808e+00)\tAcc@1  30.20 ( 31.34)\tAcc@5  58.80 ( 57.45)\n",
      "Epoch: [1][ 970/2563]\tTime  4.049 ( 2.436)\tData  3.253 ( 1.668)\tLoss 3.0975e+00 (3.1808e+00)\tAcc@1  31.00 ( 31.34)\tAcc@5  58.40 ( 57.45)\n",
      "Epoch: [1][ 980/2563]\tTime  4.178 ( 2.437)\tData  3.399 ( 1.669)\tLoss 3.0205e+00 (3.1807e+00)\tAcc@1  35.20 ( 31.35)\tAcc@5  62.40 ( 57.46)\n",
      "Epoch: [1][ 990/2563]\tTime  3.882 ( 2.436)\tData  3.092 ( 1.667)\tLoss 3.2016e+00 (3.1802e+00)\tAcc@1  30.20 ( 31.35)\tAcc@5  57.40 ( 57.47)\n",
      "Epoch: [1][1000/2563]\tTime  3.984 ( 2.437)\tData  3.183 ( 1.668)\tLoss 3.0896e+00 (3.1799e+00)\tAcc@1  34.40 ( 31.36)\tAcc@5  58.40 ( 57.47)\n",
      "Epoch: [1][1010/2563]\tTime  3.843 ( 2.437)\tData  3.053 ( 1.668)\tLoss 3.1584e+00 (3.1803e+00)\tAcc@1  31.60 ( 31.36)\tAcc@5  57.00 ( 57.47)\n"
     ]
    },
    {
     "name": "stdout",
     "output_type": "stream",
     "text": [
      "Epoch: [1][1020/2563]\tTime  3.809 ( 2.436)\tData  3.030 ( 1.668)\tLoss 3.1981e+00 (3.1803e+00)\tAcc@1  29.40 ( 31.36)\tAcc@5  55.20 ( 57.47)\n",
      "Epoch: [1][1030/2563]\tTime  3.837 ( 2.436)\tData  3.032 ( 1.668)\tLoss 3.0891e+00 (3.1804e+00)\tAcc@1  32.20 ( 31.37)\tAcc@5  59.60 ( 57.47)\n",
      "Epoch: [1][1040/2563]\tTime  4.145 ( 2.436)\tData  3.352 ( 1.668)\tLoss 3.1708e+00 (3.1801e+00)\tAcc@1  31.20 ( 31.37)\tAcc@5  58.40 ( 57.48)\n",
      "Epoch: [1][1050/2563]\tTime  4.027 ( 2.436)\tData  3.233 ( 1.668)\tLoss 3.0665e+00 (3.1803e+00)\tAcc@1  34.20 ( 31.37)\tAcc@5  58.40 ( 57.47)\n",
      "Epoch: [1][1060/2563]\tTime  4.179 ( 2.437)\tData  3.401 ( 1.668)\tLoss 3.2974e+00 (3.1809e+00)\tAcc@1  29.00 ( 31.36)\tAcc@5  56.00 ( 57.46)\n",
      "Epoch: [1][1070/2563]\tTime  4.110 ( 2.437)\tData  3.323 ( 1.668)\tLoss 3.2011e+00 (3.1815e+00)\tAcc@1  29.00 ( 31.35)\tAcc@5  55.60 ( 57.46)\n",
      "Epoch: [1][1080/2563]\tTime  4.098 ( 2.437)\tData  3.320 ( 1.669)\tLoss 3.1302e+00 (3.1812e+00)\tAcc@1  33.80 ( 31.35)\tAcc@5  58.40 ( 57.47)\n",
      "Epoch: [1][1090/2563]\tTime  4.096 ( 2.438)\tData  3.304 ( 1.669)\tLoss 3.1105e+00 (3.1807e+00)\tAcc@1  30.00 ( 31.35)\tAcc@5  58.40 ( 57.48)\n",
      "Epoch: [1][1100/2563]\tTime  4.246 ( 2.438)\tData  3.471 ( 1.669)\tLoss 3.2375e+00 (3.1809e+00)\tAcc@1  33.40 ( 31.36)\tAcc@5  56.20 ( 57.47)\n",
      "Epoch: [1][1110/2563]\tTime  4.081 ( 2.437)\tData  3.275 ( 1.669)\tLoss 3.1918e+00 (3.1807e+00)\tAcc@1  32.60 ( 31.37)\tAcc@5  57.60 ( 57.47)\n",
      "Epoch: [1][1120/2563]\tTime  4.098 ( 2.437)\tData  3.324 ( 1.669)\tLoss 3.0749e+00 (3.1807e+00)\tAcc@1  32.80 ( 31.37)\tAcc@5  59.20 ( 57.46)\n",
      "Epoch: [1][1130/2563]\tTime  4.041 ( 2.437)\tData  3.247 ( 1.669)\tLoss 3.2385e+00 (3.1806e+00)\tAcc@1  28.20 ( 31.36)\tAcc@5  56.80 ( 57.46)\n",
      "Epoch: [1][1140/2563]\tTime  4.237 ( 2.437)\tData  3.434 ( 1.669)\tLoss 3.1666e+00 (3.1807e+00)\tAcc@1  31.40 ( 31.36)\tAcc@5  55.40 ( 57.46)\n",
      "Epoch: [1][1150/2563]\tTime  4.278 ( 2.438)\tData  3.492 ( 1.670)\tLoss 3.2878e+00 (3.1804e+00)\tAcc@1  31.40 ( 31.36)\tAcc@5  52.60 ( 57.46)\n",
      "Epoch: [1][1160/2563]\tTime  4.148 ( 2.438)\tData  3.363 ( 1.669)\tLoss 3.1456e+00 (3.1800e+00)\tAcc@1  34.80 ( 31.37)\tAcc@5  59.60 ( 57.47)\n",
      "Epoch: [1][1170/2563]\tTime  4.167 ( 2.438)\tData  3.376 ( 1.669)\tLoss 3.1856e+00 (3.1800e+00)\tAcc@1  26.80 ( 31.36)\tAcc@5  59.00 ( 57.47)\n",
      "Epoch: [1][1180/2563]\tTime  3.956 ( 2.438)\tData  3.176 ( 1.669)\tLoss 3.1733e+00 (3.1801e+00)\tAcc@1  32.00 ( 31.35)\tAcc@5  56.40 ( 57.47)\n",
      "Epoch: [1][1190/2563]\tTime  3.989 ( 2.438)\tData  3.199 ( 1.669)\tLoss 3.1630e+00 (3.1803e+00)\tAcc@1  31.40 ( 31.35)\tAcc@5  57.80 ( 57.46)\n",
      "Epoch: [1][1200/2563]\tTime  4.168 ( 2.438)\tData  3.393 ( 1.670)\tLoss 3.3754e+00 (3.1806e+00)\tAcc@1  31.40 ( 31.35)\tAcc@5  53.20 ( 57.45)\n",
      "Epoch: [1][1210/2563]\tTime  4.241 ( 2.438)\tData  3.436 ( 1.669)\tLoss 3.0588e+00 (3.1806e+00)\tAcc@1  37.40 ( 31.35)\tAcc@5  59.80 ( 57.45)\n",
      "Epoch: [1][1220/2563]\tTime  3.882 ( 2.438)\tData  3.104 ( 1.669)\tLoss 3.2033e+00 (3.1813e+00)\tAcc@1  30.00 ( 31.34)\tAcc@5  58.40 ( 57.44)\n",
      "Epoch: [1][1230/2563]\tTime  4.040 ( 2.437)\tData  3.231 ( 1.669)\tLoss 3.0444e+00 (3.1806e+00)\tAcc@1  33.60 ( 31.35)\tAcc@5  58.60 ( 57.46)\n",
      "Epoch: [1][1240/2563]\tTime  3.881 ( 2.437)\tData  3.081 ( 1.669)\tLoss 3.3228e+00 (3.1808e+00)\tAcc@1  28.40 ( 31.35)\tAcc@5  55.40 ( 57.45)\n",
      "Epoch: [1][1250/2563]\tTime  4.120 ( 2.438)\tData  3.322 ( 1.669)\tLoss 3.0899e+00 (3.1810e+00)\tAcc@1  32.20 ( 31.35)\tAcc@5  60.00 ( 57.45)\n",
      "Epoch: [1][1260/2563]\tTime  4.325 ( 2.438)\tData  3.550 ( 1.669)\tLoss 3.2354e+00 (3.1809e+00)\tAcc@1  29.80 ( 31.35)\tAcc@5  56.00 ( 57.46)\n",
      "Epoch: [1][1270/2563]\tTime  4.350 ( 2.438)\tData  3.543 ( 1.670)\tLoss 3.0845e+00 (3.1808e+00)\tAcc@1  33.60 ( 31.35)\tAcc@5  58.00 ( 57.45)\n",
      "Epoch: [1][1280/2563]\tTime  4.036 ( 2.438)\tData  3.261 ( 1.670)\tLoss 3.3195e+00 (3.1809e+00)\tAcc@1  33.60 ( 31.36)\tAcc@5  53.00 ( 57.45)\n",
      "Epoch: [1][1290/2563]\tTime  4.110 ( 2.439)\tData  3.309 ( 1.670)\tLoss 3.2682e+00 (3.1811e+00)\tAcc@1  30.80 ( 31.36)\tAcc@5  55.80 ( 57.45)\n",
      "Epoch: [1][1300/2563]\tTime  4.154 ( 2.439)\tData  3.380 ( 1.670)\tLoss 3.0886e+00 (3.1809e+00)\tAcc@1  34.00 ( 31.36)\tAcc@5  58.20 ( 57.45)\n",
      "Epoch: [1][1310/2563]\tTime  4.392 ( 2.439)\tData  3.590 ( 1.671)\tLoss 3.2000e+00 (3.1811e+00)\tAcc@1  31.20 ( 31.36)\tAcc@5  57.60 ( 57.46)\n",
      "Epoch: [1][1320/2563]\tTime  3.998 ( 2.440)\tData  3.217 ( 1.671)\tLoss 3.3194e+00 (3.1811e+00)\tAcc@1  31.20 ( 31.36)\tAcc@5  53.60 ( 57.45)\n",
      "Epoch: [1][1330/2563]\tTime  4.326 ( 2.440)\tData  3.546 ( 1.672)\tLoss 3.2200e+00 (3.1812e+00)\tAcc@1  29.20 ( 31.36)\tAcc@5  55.60 ( 57.45)\n",
      "Epoch: [1][1340/2563]\tTime  4.456 ( 2.440)\tData  3.656 ( 1.672)\tLoss 2.8772e+00 (3.1808e+00)\tAcc@1  38.20 ( 31.37)\tAcc@5  64.40 ( 57.46)\n",
      "Epoch: [1][1350/2563]\tTime  4.188 ( 2.441)\tData  3.412 ( 1.672)\tLoss 3.2932e+00 (3.1811e+00)\tAcc@1  29.60 ( 31.36)\tAcc@5  51.80 ( 57.45)\n",
      "Epoch: [1][1360/2563]\tTime  4.572 ( 2.441)\tData  3.775 ( 1.673)\tLoss 3.1021e+00 (3.1807e+00)\tAcc@1  32.20 ( 31.36)\tAcc@5  57.80 ( 57.46)\n",
      "Epoch: [1][1370/2563]\tTime  4.477 ( 2.442)\tData  3.670 ( 1.673)\tLoss 3.1522e+00 (3.1812e+00)\tAcc@1  29.80 ( 31.35)\tAcc@5  60.00 ( 57.46)\n",
      "Epoch: [1][1380/2563]\tTime  4.251 ( 2.442)\tData  3.478 ( 1.674)\tLoss 3.2658e+00 (3.1810e+00)\tAcc@1  31.40 ( 31.36)\tAcc@5  56.20 ( 57.46)\n",
      "Epoch: [1][1390/2563]\tTime  3.964 ( 2.442)\tData  3.189 ( 1.674)\tLoss 3.1618e+00 (3.1811e+00)\tAcc@1  34.00 ( 31.37)\tAcc@5  57.40 ( 57.46)\n",
      "Epoch: [1][1400/2563]\tTime  4.198 ( 2.443)\tData  3.418 ( 1.675)\tLoss 3.2029e+00 (3.1815e+00)\tAcc@1  35.00 ( 31.36)\tAcc@5  57.00 ( 57.45)\n",
      "Epoch: [1][1410/2563]\tTime  4.315 ( 2.444)\tData  3.516 ( 1.675)\tLoss 3.0358e+00 (3.1813e+00)\tAcc@1  33.40 ( 31.37)\tAcc@5  60.60 ( 57.46)\n",
      "Epoch: [1][1420/2563]\tTime  3.994 ( 2.444)\tData  3.203 ( 1.676)\tLoss 3.2199e+00 (3.1813e+00)\tAcc@1  31.00 ( 31.37)\tAcc@5  55.40 ( 57.46)\n",
      "Epoch: [1][1430/2563]\tTime  4.205 ( 2.444)\tData  3.400 ( 1.676)\tLoss 3.0595e+00 (3.1814e+00)\tAcc@1  35.20 ( 31.37)\tAcc@5  58.60 ( 57.46)\n",
      "Epoch: [1][1440/2563]\tTime  4.228 ( 2.444)\tData  3.436 ( 1.676)\tLoss 3.3572e+00 (3.1817e+00)\tAcc@1  30.60 ( 31.37)\tAcc@5  53.60 ( 57.46)\n",
      "Epoch: [1][1450/2563]\tTime  4.185 ( 2.445)\tData  3.387 ( 1.676)\tLoss 3.1464e+00 (3.1814e+00)\tAcc@1  27.80 ( 31.37)\tAcc@5  58.00 ( 57.46)\n",
      "Epoch: [1][1460/2563]\tTime  4.327 ( 2.445)\tData  3.530 ( 1.677)\tLoss 3.2523e+00 (3.1812e+00)\tAcc@1  30.40 ( 31.37)\tAcc@5  56.60 ( 57.47)\n",
      "Epoch: [1][1470/2563]\tTime  4.035 ( 2.445)\tData  3.240 ( 1.677)\tLoss 3.0610e+00 (3.1813e+00)\tAcc@1  33.00 ( 31.37)\tAcc@5  57.60 ( 57.46)\n",
      "Epoch: [1][1480/2563]\tTime  4.667 ( 2.445)\tData  3.878 ( 1.677)\tLoss 3.2635e+00 (3.1814e+00)\tAcc@1  31.00 ( 31.37)\tAcc@5  54.80 ( 57.46)\n",
      "Epoch: [1][1490/2563]\tTime  4.228 ( 2.445)\tData  3.452 ( 1.677)\tLoss 2.9266e+00 (3.1813e+00)\tAcc@1  36.60 ( 31.37)\tAcc@5  61.00 ( 57.46)\n",
      "Epoch: [1][1500/2563]\tTime  4.253 ( 2.446)\tData  3.476 ( 1.678)\tLoss 3.1238e+00 (3.1814e+00)\tAcc@1  32.40 ( 31.37)\tAcc@5  59.20 ( 57.45)\n",
      "Epoch: [1][1510/2563]\tTime  3.858 ( 2.446)\tData  3.057 ( 1.678)\tLoss 3.1500e+00 (3.1814e+00)\tAcc@1  31.00 ( 31.38)\tAcc@5  58.40 ( 57.45)\n",
      "Epoch: [1][1520/2563]\tTime  4.226 ( 2.447)\tData  3.433 ( 1.679)\tLoss 3.1229e+00 (3.1813e+00)\tAcc@1  32.60 ( 31.38)\tAcc@5  59.20 ( 57.45)\n",
      "Epoch: [1][1530/2563]\tTime  4.036 ( 2.447)\tData  3.243 ( 1.679)\tLoss 3.1473e+00 (3.1818e+00)\tAcc@1  29.00 ( 31.37)\tAcc@5  58.40 ( 57.44)\n",
      "Epoch: [1][1540/2563]\tTime  4.268 ( 2.447)\tData  3.491 ( 1.679)\tLoss 3.0895e+00 (3.1818e+00)\tAcc@1  32.20 ( 31.36)\tAcc@5  58.80 ( 57.44)\n",
      "Epoch: [1][1550/2563]\tTime  4.081 ( 2.447)\tData  3.306 ( 1.679)\tLoss 3.1632e+00 (3.1815e+00)\tAcc@1  30.20 ( 31.37)\tAcc@5  57.00 ( 57.45)\n",
      "Epoch: [1][1560/2563]\tTime  4.108 ( 2.447)\tData  3.306 ( 1.678)\tLoss 3.1460e+00 (3.1813e+00)\tAcc@1  32.20 ( 31.38)\tAcc@5  58.00 ( 57.45)\n",
      "Epoch: [1][1570/2563]\tTime  3.897 ( 2.447)\tData  3.113 ( 1.679)\tLoss 3.1263e+00 (3.1814e+00)\tAcc@1  31.60 ( 31.37)\tAcc@5  58.20 ( 57.45)\n",
      "Epoch: [1][1580/2563]\tTime  4.272 ( 2.447)\tData  3.478 ( 1.679)\tLoss 3.2303e+00 (3.1816e+00)\tAcc@1  31.00 ( 31.37)\tAcc@5  56.20 ( 57.44)\n",
      "Epoch: [1][1590/2563]\tTime  3.941 ( 2.447)\tData  3.153 ( 1.678)\tLoss 3.0576e+00 (3.1816e+00)\tAcc@1  33.00 ( 31.37)\tAcc@5  60.00 ( 57.43)\n",
      "Epoch: [1][1600/2563]\tTime  4.213 ( 2.447)\tData  3.422 ( 1.678)\tLoss 3.2160e+00 (3.1817e+00)\tAcc@1  33.20 ( 31.36)\tAcc@5  55.40 ( 57.43)\n",
      "Epoch: [1][1610/2563]\tTime  4.048 ( 2.447)\tData  3.267 ( 1.678)\tLoss 3.2182e+00 (3.1822e+00)\tAcc@1  30.40 ( 31.35)\tAcc@5  59.00 ( 57.43)\n"
     ]
    },
    {
     "name": "stdout",
     "output_type": "stream",
     "text": [
      "Epoch: [1][1620/2563]\tTime  4.092 ( 2.447)\tData  3.316 ( 1.679)\tLoss 3.1030e+00 (3.1822e+00)\tAcc@1  35.00 ( 31.35)\tAcc@5  58.40 ( 57.42)\n",
      "Epoch: [1][1630/2563]\tTime  4.184 ( 2.447)\tData  3.405 ( 1.679)\tLoss 3.3026e+00 (3.1822e+00)\tAcc@1  30.60 ( 31.36)\tAcc@5  55.00 ( 57.42)\n",
      "Epoch: [1][1640/2563]\tTime  3.998 ( 2.447)\tData  3.191 ( 1.678)\tLoss 3.3924e+00 (3.1820e+00)\tAcc@1  29.40 ( 31.36)\tAcc@5  54.00 ( 57.42)\n",
      "Epoch: [1][1650/2563]\tTime  4.037 ( 2.447)\tData  3.232 ( 1.678)\tLoss 3.1356e+00 (3.1819e+00)\tAcc@1  31.60 ( 31.36)\tAcc@5  60.00 ( 57.42)\n",
      "Epoch: [1][1660/2563]\tTime  4.157 ( 2.447)\tData  3.375 ( 1.679)\tLoss 3.2553e+00 (3.1821e+00)\tAcc@1  27.60 ( 31.36)\tAcc@5  56.00 ( 57.42)\n",
      "Epoch: [1][1670/2563]\tTime  3.989 ( 2.447)\tData  3.198 ( 1.679)\tLoss 3.2347e+00 (3.1819e+00)\tAcc@1  32.00 ( 31.36)\tAcc@5  59.80 ( 57.42)\n",
      "Epoch: [1][1680/2563]\tTime  4.421 ( 2.448)\tData  3.630 ( 1.679)\tLoss 3.0443e+00 (3.1820e+00)\tAcc@1  33.80 ( 31.36)\tAcc@5  59.40 ( 57.42)\n",
      "Epoch: [1][1690/2563]\tTime  4.035 ( 2.447)\tData  3.252 ( 1.679)\tLoss 3.0643e+00 (3.1820e+00)\tAcc@1  32.40 ( 31.36)\tAcc@5  59.60 ( 57.42)\n",
      "Epoch: [1][1700/2563]\tTime  4.249 ( 2.448)\tData  3.444 ( 1.679)\tLoss 3.1119e+00 (3.1818e+00)\tAcc@1  32.00 ( 31.36)\tAcc@5  57.80 ( 57.43)\n",
      "Epoch: [1][1710/2563]\tTime  4.385 ( 2.448)\tData  3.586 ( 1.679)\tLoss 3.3358e+00 (3.1820e+00)\tAcc@1  29.40 ( 31.36)\tAcc@5  57.00 ( 57.42)\n",
      "Epoch: [1][1720/2563]\tTime  4.446 ( 2.448)\tData  3.651 ( 1.679)\tLoss 3.0045e+00 (3.1815e+00)\tAcc@1  33.00 ( 31.37)\tAcc@5  61.40 ( 57.43)\n",
      "Epoch: [1][1730/2563]\tTime  4.348 ( 2.448)\tData  3.572 ( 1.679)\tLoss 3.2652e+00 (3.1818e+00)\tAcc@1  32.00 ( 31.36)\tAcc@5  58.20 ( 57.43)\n",
      "Epoch: [1][1740/2563]\tTime  4.209 ( 2.448)\tData  3.416 ( 1.680)\tLoss 3.3000e+00 (3.1820e+00)\tAcc@1  29.80 ( 31.36)\tAcc@5  53.40 ( 57.42)\n",
      "Epoch: [1][1750/2563]\tTime  4.469 ( 2.449)\tData  3.674 ( 1.680)\tLoss 3.0303e+00 (3.1820e+00)\tAcc@1  32.80 ( 31.36)\tAcc@5  59.00 ( 57.42)\n",
      "Epoch: [1][1760/2563]\tTime  3.907 ( 2.449)\tData  3.126 ( 1.680)\tLoss 3.0958e+00 (3.1824e+00)\tAcc@1  29.80 ( 31.35)\tAcc@5  60.80 ( 57.41)\n",
      "Epoch: [1][1770/2563]\tTime  4.109 ( 2.449)\tData  3.317 ( 1.680)\tLoss 3.2042e+00 (3.1824e+00)\tAcc@1  28.60 ( 31.35)\tAcc@5  57.80 ( 57.42)\n",
      "Epoch: [1][1780/2563]\tTime  4.364 ( 2.449)\tData  3.569 ( 1.680)\tLoss 3.1389e+00 (3.1822e+00)\tAcc@1  30.60 ( 31.36)\tAcc@5  59.00 ( 57.42)\n",
      "Epoch: [1][1790/2563]\tTime  4.093 ( 2.449)\tData  3.305 ( 1.681)\tLoss 3.0407e+00 (3.1818e+00)\tAcc@1  34.00 ( 31.36)\tAcc@5  58.60 ( 57.43)\n",
      "Epoch: [1][1800/2563]\tTime  4.147 ( 2.450)\tData  3.368 ( 1.681)\tLoss 3.1627e+00 (3.1822e+00)\tAcc@1  29.40 ( 31.36)\tAcc@5  58.20 ( 57.42)\n",
      "Epoch: [1][1810/2563]\tTime  4.118 ( 2.449)\tData  3.339 ( 1.681)\tLoss 3.2053e+00 (3.1823e+00)\tAcc@1  30.80 ( 31.36)\tAcc@5  57.00 ( 57.42)\n",
      "Epoch: [1][1820/2563]\tTime  4.194 ( 2.449)\tData  3.393 ( 1.681)\tLoss 3.1278e+00 (3.1822e+00)\tAcc@1  34.40 ( 31.36)\tAcc@5  59.40 ( 57.42)\n",
      "Epoch: [1][1830/2563]\tTime  4.017 ( 2.449)\tData  3.216 ( 1.681)\tLoss 3.1412e+00 (3.1822e+00)\tAcc@1  31.40 ( 31.36)\tAcc@5  56.80 ( 57.42)\n",
      "Epoch: [1][1840/2563]\tTime  4.364 ( 2.449)\tData  3.587 ( 1.681)\tLoss 3.1978e+00 (3.1823e+00)\tAcc@1  29.20 ( 31.36)\tAcc@5  57.80 ( 57.42)\n",
      "Epoch: [1][1850/2563]\tTime  4.125 ( 2.450)\tData  3.329 ( 1.681)\tLoss 3.1455e+00 (3.1824e+00)\tAcc@1  32.60 ( 31.35)\tAcc@5  57.20 ( 57.42)\n",
      "Epoch: [1][1860/2563]\tTime  4.282 ( 2.450)\tData  3.474 ( 1.682)\tLoss 3.2338e+00 (3.1824e+00)\tAcc@1  29.40 ( 31.35)\tAcc@5  57.40 ( 57.42)\n",
      "Epoch: [1][1870/2563]\tTime  3.985 ( 2.450)\tData  3.204 ( 1.682)\tLoss 3.3057e+00 (3.1826e+00)\tAcc@1  31.60 ( 31.35)\tAcc@5  55.00 ( 57.42)\n",
      "Epoch: [1][1880/2563]\tTime  4.545 ( 2.451)\tData  3.762 ( 1.682)\tLoss 3.2982e+00 (3.1827e+00)\tAcc@1  29.00 ( 31.35)\tAcc@5  57.80 ( 57.42)\n",
      "Epoch: [1][1890/2563]\tTime  4.178 ( 2.451)\tData  3.388 ( 1.683)\tLoss 3.2710e+00 (3.1828e+00)\tAcc@1  27.60 ( 31.35)\tAcc@5  54.80 ( 57.42)\n",
      "Epoch: [1][1900/2563]\tTime  4.237 ( 2.451)\tData  3.442 ( 1.683)\tLoss 3.3977e+00 (3.1830e+00)\tAcc@1  26.00 ( 31.35)\tAcc@5  54.80 ( 57.41)\n",
      "Epoch: [1][1910/2563]\tTime  4.048 ( 2.451)\tData  3.259 ( 1.682)\tLoss 3.2720e+00 (3.1833e+00)\tAcc@1  31.00 ( 31.34)\tAcc@5  54.40 ( 57.41)\n",
      "Epoch: [1][1920/2563]\tTime  4.544 ( 2.451)\tData  3.742 ( 1.682)\tLoss 3.2130e+00 (3.1836e+00)\tAcc@1  31.00 ( 31.34)\tAcc@5  55.80 ( 57.40)\n",
      "Epoch: [1][1930/2563]\tTime  4.530 ( 2.451)\tData  3.746 ( 1.683)\tLoss 3.0302e+00 (3.1835e+00)\tAcc@1  30.80 ( 31.34)\tAcc@5  60.60 ( 57.40)\n",
      "Epoch: [1][1940/2563]\tTime  4.226 ( 2.451)\tData  3.446 ( 1.683)\tLoss 3.1967e+00 (3.1837e+00)\tAcc@1  30.40 ( 31.34)\tAcc@5  56.40 ( 57.40)\n",
      "Epoch: [1][1950/2563]\tTime  4.069 ( 2.451)\tData  3.295 ( 1.683)\tLoss 3.0942e+00 (3.1837e+00)\tAcc@1  34.20 ( 31.34)\tAcc@5  59.60 ( 57.41)\n",
      "Epoch: [1][1960/2563]\tTime  4.157 ( 2.452)\tData  3.370 ( 1.683)\tLoss 3.0738e+00 (3.1836e+00)\tAcc@1  32.80 ( 31.34)\tAcc@5  60.00 ( 57.41)\n",
      "Epoch: [1][1970/2563]\tTime  4.100 ( 2.452)\tData  3.319 ( 1.683)\tLoss 3.2291e+00 (3.1834e+00)\tAcc@1  31.20 ( 31.34)\tAcc@5  59.20 ( 57.41)\n",
      "Epoch: [1][1980/2563]\tTime  4.428 ( 2.452)\tData  3.628 ( 1.684)\tLoss 3.3629e+00 (3.1837e+00)\tAcc@1  26.40 ( 31.33)\tAcc@5  53.60 ( 57.41)\n",
      "Epoch: [1][1990/2563]\tTime  4.151 ( 2.452)\tData  3.357 ( 1.683)\tLoss 3.2018e+00 (3.1839e+00)\tAcc@1  32.00 ( 31.33)\tAcc@5  57.40 ( 57.41)\n",
      "Epoch: [1][2000/2563]\tTime  4.428 ( 2.452)\tData  3.623 ( 1.683)\tLoss 3.0171e+00 (3.1841e+00)\tAcc@1  34.20 ( 31.33)\tAcc@5  60.60 ( 57.40)\n",
      "Epoch: [1][2010/2563]\tTime  4.237 ( 2.452)\tData  3.438 ( 1.683)\tLoss 3.2465e+00 (3.1839e+00)\tAcc@1  29.00 ( 31.33)\tAcc@5  55.40 ( 57.41)\n",
      "Epoch: [1][2020/2563]\tTime  4.152 ( 2.452)\tData  3.368 ( 1.684)\tLoss 3.1834e+00 (3.1840e+00)\tAcc@1  32.60 ( 31.33)\tAcc@5  56.60 ( 57.40)\n",
      "Epoch: [1][2030/2563]\tTime  4.311 ( 2.452)\tData  3.531 ( 1.684)\tLoss 3.0880e+00 (3.1839e+00)\tAcc@1  31.80 ( 31.34)\tAcc@5  57.20 ( 57.40)\n",
      "Epoch: [1][2040/2563]\tTime  4.408 ( 2.453)\tData  3.616 ( 1.684)\tLoss 3.2540e+00 (3.1839e+00)\tAcc@1  30.80 ( 31.34)\tAcc@5  54.80 ( 57.41)\n",
      "Epoch: [1][2050/2563]\tTime  4.189 ( 2.452)\tData  3.387 ( 1.684)\tLoss 3.2006e+00 (3.1841e+00)\tAcc@1  31.60 ( 31.34)\tAcc@5  55.60 ( 57.40)\n",
      "Epoch: [1][2060/2563]\tTime  4.304 ( 2.452)\tData  3.509 ( 1.684)\tLoss 3.1571e+00 (3.1842e+00)\tAcc@1  30.80 ( 31.33)\tAcc@5  59.00 ( 57.40)\n",
      "Epoch: [1][2070/2563]\tTime  4.382 ( 2.453)\tData  3.590 ( 1.685)\tLoss 3.2892e+00 (3.1841e+00)\tAcc@1  29.60 ( 31.34)\tAcc@5  54.60 ( 57.40)\n",
      "Epoch: [1][2080/2563]\tTime  4.044 ( 2.453)\tData  3.249 ( 1.684)\tLoss 3.0938e+00 (3.1841e+00)\tAcc@1  33.20 ( 31.34)\tAcc@5  58.40 ( 57.40)\n",
      "Epoch: [1][2090/2563]\tTime  4.170 ( 2.453)\tData  3.363 ( 1.684)\tLoss 3.1712e+00 (3.1842e+00)\tAcc@1  31.80 ( 31.33)\tAcc@5  58.80 ( 57.39)\n",
      "Epoch: [1][2100/2563]\tTime  4.793 ( 2.453)\tData  3.997 ( 1.685)\tLoss 3.2459e+00 (3.1843e+00)\tAcc@1  28.80 ( 31.33)\tAcc@5  56.80 ( 57.39)\n",
      "Epoch: [1][2110/2563]\tTime  4.590 ( 2.454)\tData  3.792 ( 1.685)\tLoss 3.0440e+00 (3.1841e+00)\tAcc@1  34.20 ( 31.33)\tAcc@5  60.80 ( 57.39)\n",
      "Epoch: [1][2120/2563]\tTime  4.841 ( 2.454)\tData  4.051 ( 1.686)\tLoss 3.0239e+00 (3.1840e+00)\tAcc@1  33.80 ( 31.33)\tAcc@5  61.20 ( 57.40)\n",
      "Epoch: [1][2130/2563]\tTime  3.760 ( 2.454)\tData  2.975 ( 1.686)\tLoss 3.1847e+00 (3.1839e+00)\tAcc@1  30.00 ( 31.33)\tAcc@5  57.40 ( 57.40)\n",
      "Epoch: [1][2140/2563]\tTime  4.469 ( 2.454)\tData  3.677 ( 1.686)\tLoss 3.1820e+00 (3.1840e+00)\tAcc@1  29.80 ( 31.33)\tAcc@5  56.60 ( 57.40)\n",
      "Epoch: [1][2150/2563]\tTime  4.203 ( 2.454)\tData  3.409 ( 1.686)\tLoss 3.2207e+00 (3.1839e+00)\tAcc@1  32.80 ( 31.33)\tAcc@5  57.60 ( 57.40)\n",
      "Epoch: [1][2160/2563]\tTime  4.103 ( 2.454)\tData  3.306 ( 1.686)\tLoss 3.0592e+00 (3.1840e+00)\tAcc@1  33.00 ( 31.33)\tAcc@5  59.40 ( 57.40)\n",
      "Epoch: [1][2170/2563]\tTime  4.488 ( 2.454)\tData  3.709 ( 1.686)\tLoss 3.1711e+00 (3.1839e+00)\tAcc@1  27.20 ( 31.33)\tAcc@5  57.20 ( 57.40)\n",
      "Epoch: [1][2180/2563]\tTime  5.276 ( 2.455)\tData  4.490 ( 1.687)\tLoss 3.2397e+00 (3.1836e+00)\tAcc@1  31.40 ( 31.33)\tAcc@5  57.40 ( 57.40)\n",
      "Epoch: [1][2190/2563]\tTime  3.882 ( 2.455)\tData  3.078 ( 1.687)\tLoss 3.1469e+00 (3.1839e+00)\tAcc@1  36.60 ( 31.33)\tAcc@5  59.20 ( 57.40)\n",
      "Epoch: [1][2200/2563]\tTime  3.824 ( 2.455)\tData  3.025 ( 1.686)\tLoss 3.0771e+00 (3.1839e+00)\tAcc@1  33.00 ( 31.33)\tAcc@5  60.40 ( 57.40)\n",
      "Epoch: [1][2210/2563]\tTime  3.866 ( 2.455)\tData  3.075 ( 1.686)\tLoss 3.1342e+00 (3.1836e+00)\tAcc@1  32.80 ( 31.34)\tAcc@5  60.20 ( 57.40)\n"
     ]
    },
    {
     "name": "stdout",
     "output_type": "stream",
     "text": [
      "Epoch: [1][2220/2563]\tTime  4.036 ( 2.454)\tData  3.256 ( 1.686)\tLoss 3.2492e+00 (3.1837e+00)\tAcc@1  30.40 ( 31.34)\tAcc@5  55.40 ( 57.39)\n",
      "Epoch: [1][2230/2563]\tTime  4.220 ( 2.454)\tData  3.420 ( 1.685)\tLoss 3.2476e+00 (3.1838e+00)\tAcc@1  32.00 ( 31.34)\tAcc@5  56.20 ( 57.39)\n",
      "Epoch: [1][2240/2563]\tTime  3.861 ( 2.453)\tData  3.066 ( 1.685)\tLoss 3.2239e+00 (3.1840e+00)\tAcc@1  31.60 ( 31.33)\tAcc@5  54.80 ( 57.39)\n",
      "Epoch: [1][2250/2563]\tTime  4.548 ( 2.454)\tData  3.767 ( 1.685)\tLoss 3.2160e+00 (3.1840e+00)\tAcc@1  31.00 ( 31.33)\tAcc@5  55.20 ( 57.39)\n",
      "Epoch: [1][2260/2563]\tTime  4.074 ( 2.454)\tData  3.272 ( 1.685)\tLoss 3.1991e+00 (3.1841e+00)\tAcc@1  30.80 ( 31.34)\tAcc@5  56.40 ( 57.39)\n",
      "Epoch: [1][2270/2563]\tTime  4.053 ( 2.453)\tData  3.272 ( 1.685)\tLoss 3.1704e+00 (3.1842e+00)\tAcc@1  31.40 ( 31.34)\tAcc@5  55.20 ( 57.39)\n",
      "Epoch: [1][2280/2563]\tTime  4.206 ( 2.453)\tData  3.404 ( 1.685)\tLoss 3.1758e+00 (3.1843e+00)\tAcc@1  29.00 ( 31.33)\tAcc@5  57.80 ( 57.39)\n",
      "Epoch: [1][2290/2563]\tTime  4.078 ( 2.453)\tData  3.275 ( 1.685)\tLoss 3.1921e+00 (3.1843e+00)\tAcc@1  29.60 ( 31.33)\tAcc@5  55.00 ( 57.38)\n",
      "Epoch: [1][2300/2563]\tTime  4.040 ( 2.453)\tData  3.238 ( 1.685)\tLoss 3.1680e+00 (3.1842e+00)\tAcc@1  32.40 ( 31.33)\tAcc@5  59.40 ( 57.39)\n",
      "Epoch: [1][2310/2563]\tTime  4.192 ( 2.453)\tData  3.415 ( 1.684)\tLoss 3.2118e+00 (3.1843e+00)\tAcc@1  30.80 ( 31.34)\tAcc@5  55.80 ( 57.39)\n",
      "Epoch: [1][2320/2563]\tTime  3.710 ( 2.452)\tData  2.924 ( 1.684)\tLoss 3.3655e+00 (3.1843e+00)\tAcc@1  29.00 ( 31.33)\tAcc@5  54.40 ( 57.38)\n",
      "Epoch: [1][2330/2563]\tTime  4.188 ( 2.452)\tData  3.394 ( 1.684)\tLoss 3.1567e+00 (3.1843e+00)\tAcc@1  31.40 ( 31.33)\tAcc@5  58.00 ( 57.39)\n",
      "Epoch: [1][2340/2563]\tTime  3.849 ( 2.452)\tData  3.069 ( 1.683)\tLoss 3.2592e+00 (3.1844e+00)\tAcc@1  28.40 ( 31.33)\tAcc@5  54.40 ( 57.38)\n",
      "Epoch: [1][2350/2563]\tTime  3.944 ( 2.451)\tData  3.166 ( 1.683)\tLoss 3.1722e+00 (3.1844e+00)\tAcc@1  31.80 ( 31.33)\tAcc@5  58.60 ( 57.39)\n",
      "Epoch: [1][2360/2563]\tTime  3.872 ( 2.451)\tData  3.078 ( 1.683)\tLoss 3.2818e+00 (3.1845e+00)\tAcc@1  30.00 ( 31.33)\tAcc@5  55.60 ( 57.39)\n",
      "Epoch: [1][2370/2563]\tTime  3.889 ( 2.451)\tData  3.091 ( 1.682)\tLoss 3.0948e+00 (3.1844e+00)\tAcc@1  31.20 ( 31.33)\tAcc@5  58.80 ( 57.39)\n",
      "Epoch: [1][2380/2563]\tTime  3.849 ( 2.451)\tData  3.051 ( 1.682)\tLoss 3.1695e+00 (3.1845e+00)\tAcc@1  31.20 ( 31.33)\tAcc@5  56.20 ( 57.39)\n",
      "Epoch: [1][2390/2563]\tTime  4.256 ( 2.451)\tData  3.463 ( 1.682)\tLoss 3.1545e+00 (3.1847e+00)\tAcc@1  35.00 ( 31.33)\tAcc@5  56.60 ( 57.38)\n",
      "Epoch: [1][2400/2563]\tTime  3.905 ( 2.451)\tData  3.104 ( 1.682)\tLoss 3.2316e+00 (3.1848e+00)\tAcc@1  30.60 ( 31.33)\tAcc@5  56.40 ( 57.38)\n",
      "Epoch: [1][2410/2563]\tTime  4.026 ( 2.451)\tData  3.236 ( 1.682)\tLoss 3.0665e+00 (3.1849e+00)\tAcc@1  33.80 ( 31.33)\tAcc@5  59.00 ( 57.38)\n",
      "Epoch: [1][2420/2563]\tTime  3.781 ( 2.451)\tData  3.003 ( 1.682)\tLoss 3.1621e+00 (3.1847e+00)\tAcc@1  28.40 ( 31.33)\tAcc@5  57.60 ( 57.38)\n",
      "Epoch: [1][2430/2563]\tTime  3.877 ( 2.450)\tData  3.094 ( 1.682)\tLoss 3.2050e+00 (3.1848e+00)\tAcc@1  30.80 ( 31.33)\tAcc@5  54.80 ( 57.38)\n",
      "Epoch: [1][2440/2563]\tTime  4.203 ( 2.450)\tData  3.403 ( 1.681)\tLoss 3.1773e+00 (3.1848e+00)\tAcc@1  30.60 ( 31.33)\tAcc@5  57.60 ( 57.38)\n",
      "Epoch: [1][2450/2563]\tTime  4.075 ( 2.450)\tData  3.274 ( 1.681)\tLoss 3.2354e+00 (3.1850e+00)\tAcc@1  30.40 ( 31.32)\tAcc@5  56.60 ( 57.38)\n",
      "Epoch: [1][2460/2563]\tTime  4.191 ( 2.450)\tData  3.400 ( 1.681)\tLoss 3.0385e+00 (3.1849e+00)\tAcc@1  34.60 ( 31.32)\tAcc@5  60.20 ( 57.38)\n",
      "Epoch: [1][2470/2563]\tTime  3.984 ( 2.449)\tData  3.205 ( 1.681)\tLoss 3.0943e+00 (3.1849e+00)\tAcc@1  33.00 ( 31.32)\tAcc@5  57.40 ( 57.38)\n",
      "Epoch: [1][2480/2563]\tTime  4.157 ( 2.450)\tData  3.352 ( 1.681)\tLoss 3.0585e+00 (3.1849e+00)\tAcc@1  32.20 ( 31.32)\tAcc@5  60.60 ( 57.38)\n",
      "Epoch: [1][2490/2563]\tTime  3.340 ( 2.450)\tData  2.543 ( 1.681)\tLoss 3.1712e+00 (3.1849e+00)\tAcc@1  30.40 ( 31.32)\tAcc@5  58.20 ( 57.38)\n",
      "Epoch: [1][2500/2563]\tTime  3.046 ( 2.450)\tData  2.241 ( 1.681)\tLoss 3.2527e+00 (3.1847e+00)\tAcc@1  31.60 ( 31.32)\tAcc@5  57.40 ( 57.38)\n",
      "Epoch: [1][2510/2563]\tTime  4.479 ( 2.450)\tData  3.697 ( 1.682)\tLoss 3.2819e+00 (3.1849e+00)\tAcc@1  30.80 ( 31.32)\tAcc@5  56.20 ( 57.38)\n",
      "Epoch: [1][2520/2563]\tTime  3.988 ( 2.451)\tData  3.177 ( 1.682)\tLoss 3.1560e+00 (3.1850e+00)\tAcc@1  31.20 ( 31.32)\tAcc@5  57.20 ( 57.38)\n",
      "Epoch: [1][2530/2563]\tTime  4.247 ( 2.451)\tData  3.465 ( 1.683)\tLoss 3.2148e+00 (3.1850e+00)\tAcc@1  32.60 ( 31.32)\tAcc@5  55.80 ( 57.38)\n",
      "Epoch: [1][2540/2563]\tTime  4.066 ( 2.451)\tData  3.257 ( 1.683)\tLoss 3.3322e+00 (3.1851e+00)\tAcc@1  29.00 ( 31.32)\tAcc@5  56.20 ( 57.38)\n",
      "Epoch: [1][2550/2563]\tTime  3.881 ( 2.451)\tData  3.104 ( 1.683)\tLoss 3.2091e+00 (3.1850e+00)\tAcc@1  32.20 ( 31.32)\tAcc@5  56.80 ( 57.38)\n",
      "Epoch: [1][2560/2563]\tTime  3.589 ( 2.451)\tData  2.809 ( 1.683)\tLoss 3.2145e+00 (3.1850e+00)\tAcc@1  28.00 ( 31.32)\tAcc@5  56.60 ( 57.38)\n",
      "Test: [0/3]\tTime  7.514 ( 7.514)\tLoss 3.0641e+00 (3.0641e+00)\tAcc@1  33.60 ( 33.60)\tAcc@5  59.20 ( 59.20)\n",
      " * Acc@1 29.870 Acc@5 55.345\n",
      "lr: [0.1]\n",
      "CPU times: user 1h 10min 28s, sys: 3min 56s, total: 1h 14min 24s\n",
      "Wall time: 3h 28min 9s\n"
     ]
    }
   ],
   "source": [
    "%%time\n",
    "for epoch in range(START_EPOCH, 2):\n",
    "#    adjust_learning_rate(optimizer, epoch)\n",
    "\n",
    "    # train for one epoch\n",
    "    train(train_loader, model, criterion, optimizer, epoch)\n",
    "\n",
    "    # evaluate on validation set\n",
    "    acc1 = validate(val_loader, model, criterion)\n",
    "\n",
    "    # remember best acc@1 and save checkpoint\n",
    "    is_best = acc1 > best_acc1\n",
    "    best_acc1 = max(acc1, best_acc1)\n",
    "\n",
    "\n",
    "    save_checkpoint({\n",
    "        'epoch': epoch + 1,\n",
    "        'arch': ARCH,\n",
    "        'state_dict': model.state_dict(),\n",
    "        'best_acc1': best_acc1,\n",
    "        'optimizer' : optimizer.state_dict(),\n",
    "    }, is_best)\n",
    "    \n",
    "    scheduler.step()\n",
    "    print('lr: ' + str(scheduler.get_last_lr()))\n",
    "    \n",
    "    writer.add_scalar(\"lr\", scheduler.get_last_lr()[0], global_step = global_step)\n",
    "    \n",
    "    wandb.log({'lr': scheduler.get_last_lr()[0]})"
   ]
  },
  {
   "cell_type": "code",
   "execution_count": 46,
   "id": "russian-european",
   "metadata": {
    "id": "adc68068"
   },
   "outputs": [
    {
     "data": {
      "text/plain": [
       "Reusing TensorBoard on port 6006 (pid 4802), started 5:21:57 ago. (Use '!kill 4802' to kill it.)"
      ]
     },
     "metadata": {},
     "output_type": "display_data"
    },
    {
     "data": {
      "text/html": [
       "\n",
       "      <iframe id=\"tensorboard-frame-91b7584a2265b1f5\" width=\"100%\" height=\"800\" frameborder=\"0\">\n",
       "      </iframe>\n",
       "      <script>\n",
       "        (function() {\n",
       "          const frame = document.getElementById(\"tensorboard-frame-91b7584a2265b1f5\");\n",
       "          const url = new URL(\"/\", window.location);\n",
       "          const port = 6006;\n",
       "          if (port) {\n",
       "            url.port = port;\n",
       "          }\n",
       "          frame.src = url;\n",
       "        })();\n",
       "      </script>\n",
       "    "
      ],
      "text/plain": [
       "<IPython.core.display.HTML object>"
      ]
     },
     "metadata": {},
     "output_type": "display_data"
    }
   ],
   "source": [
    "\n",
    "writer.close()\n",
    "%load_ext tensorboard\n",
    "%tensorboard --logdir=runs"
   ]
  },
  {
   "cell_type": "code",
   "execution_count": null,
   "id": "governmental-columbia",
   "metadata": {
    "id": "d3faf0cd"
   },
   "outputs": [],
   "source": []
  }
 ],
 "metadata": {
  "colab": {
   "name": "cinic.ipynb",
   "provenance": []
  },
  "kernelspec": {
   "display_name": "Python 3",
   "language": "python",
   "name": "python3"
  },
  "language_info": {
   "codemirror_mode": {
    "name": "ipython",
    "version": 3
   },
   "file_extension": ".py",
   "mimetype": "text/x-python",
   "name": "python",
   "nbconvert_exporter": "python",
   "pygments_lexer": "ipython3",
   "version": "3.7.10"
  }
 },
 "nbformat": 4,
 "nbformat_minor": 5
}
